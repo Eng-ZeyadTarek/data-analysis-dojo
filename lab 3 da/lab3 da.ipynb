{
  "metadata": {
    "kernelspec": {
      "language": "python",
      "display_name": "Python 3",
      "name": "python3"
    },
    "language_info": {
      "pygments_lexer": "ipython3",
      "nbconvert_exporter": "python",
      "version": "3.6.4",
      "file_extension": ".py",
      "codemirror_mode": {
        "name": "ipython",
        "version": 3
      },
      "name": "python",
      "mimetype": "text/x-python"
    },
    "colab": {
      "name": "lab3 da.ipynb",
      "provenance": [],
      "collapsed_sections": []
    }
  },
  "nbformat_minor": 0,
  "nbformat": 4,
  "cells": [
    {
      "cell_type": "code",
      "source": [
        "from sklearn.datasets import fetch_20newsgroups\n",
        "import sklearn\n",
        "import pandas as pd\n",
        "import re\n",
        "import nltk\n",
        "import numpy as np\n",
        "from nltk.tokenize import word_tokenize\n",
        "from nltk.corpus import stopwords\n",
        "from sklearn.feature_extraction.text import TfidfVectorizer\n",
        "from sklearn.model_selection import  RandomizedSearchCV\n",
        "from sklearn.pipeline import Pipeline\n",
        "from sklearn.cluster import KMeans,k_means\n",
        "import matplotlib.pyplot as plt\n",
        "from sklearn.decomposition import TruncatedSVD\n",
        "from sklearn.metrics import mutual_info_score\n",
        "from nltk.stem import WordNetLemmatizer\n",
        "from yellowbrick.cluster import KElbowVisualizer\n",
        "from wordcloud import WordCloud\n",
        "import matplotlib.pyplot as plt\n"
      ],
      "metadata": {
        "execution": {
          "iopub.status.busy": "2022-05-17T22:47:33.960466Z",
          "iopub.execute_input": "2022-05-17T22:47:33.960773Z",
          "iopub.status.idle": "2022-05-17T22:47:33.968607Z",
          "shell.execute_reply.started": "2022-05-17T22:47:33.960743Z",
          "shell.execute_reply": "2022-05-17T22:47:33.967604Z"
        },
        "trusted": true,
        "id": "ayaSzKlWTXdk"
      },
      "execution_count": 24,
      "outputs": []
    },
    {
      "cell_type": "markdown",
      "source": [
        "### Task 1: Read the dataset and report the basic statistics of the dataset\n",
        "import data from sklearn.datasets and selecte pre-defined categories:"
      ],
      "metadata": {
        "id": "Pia7Y2wmTXdn"
      }
    },
    {
      "cell_type": "code",
      "source": [
        "categories = [\n",
        " 'comp.graphics',\n",
        " 'comp.os.ms-windows.misc',\n",
        " 'rec.sport.baseball',\n",
        " 'rec.sport.hockey',\n",
        " 'alt.atheism',\n",
        "]\n",
        "dataset = fetch_20newsgroups(subset='train', categories=categories, shuffle=True, remove=('headers', 'footers', 'quotes'))\n",
        "true_labels = dataset.target\n",
        "dataset = pd.Series(dataset['data'])\n",
        "len(dataset)"
      ],
      "metadata": {
        "_uuid": "8f2839f25d086af736a60e9eeb907d3b93b6e0e5",
        "_cell_guid": "b1076dfc-b9ad-4769-8c92-a6c4dae69d19",
        "execution": {
          "iopub.status.busy": "2022-05-17T22:47:33.970686Z",
          "iopub.execute_input": "2022-05-17T22:47:33.971293Z",
          "iopub.status.idle": "2022-05-17T22:47:36.168268Z",
          "shell.execute_reply.started": "2022-05-17T22:47:33.971245Z",
          "shell.execute_reply": "2022-05-17T22:47:36.167381Z"
        },
        "trusted": true,
        "colab": {
          "base_uri": "https://localhost:8080/"
        },
        "id": "xnaN8WQzTXdo",
        "outputId": "fe4f4c17-1c9f-4071-b590-36d15db7c595"
      },
      "execution_count": 2,
      "outputs": [
        {
          "output_type": "execute_result",
          "data": {
            "text/plain": [
              "2852"
            ]
          },
          "metadata": {},
          "execution_count": 2
        }
      ]
    },
    {
      "cell_type": "code",
      "source": [
        "true_labels"
      ],
      "metadata": {
        "execution": {
          "iopub.status.busy": "2022-05-17T22:47:36.169513Z",
          "iopub.execute_input": "2022-05-17T22:47:36.169887Z",
          "iopub.status.idle": "2022-05-17T22:47:36.176910Z",
          "shell.execute_reply.started": "2022-05-17T22:47:36.169842Z",
          "shell.execute_reply": "2022-05-17T22:47:36.175971Z"
        },
        "trusted": true,
        "colab": {
          "base_uri": "https://localhost:8080/"
        },
        "id": "8yfh2gtnTXdp",
        "outputId": "1d740b1a-a6ce-44dd-f300-f6e5f6e6a00a"
      },
      "execution_count": 3,
      "outputs": [
        {
          "output_type": "execute_result",
          "data": {
            "text/plain": [
              "array([2, 0, 2, ..., 4, 1, 2])"
            ]
          },
          "metadata": {},
          "execution_count": 3
        }
      ]
    },
    {
      "cell_type": "markdown",
      "source": [
        "### Task 2: Data cleaning."
      ],
      "metadata": {
        "id": "HicRhVNvTXdp"
      }
    },
    {
      "cell_type": "code",
      "source": [
        "nltk.download('wordnet')\n",
        "nltk.download('punkt')\n",
        "nltk.download('stopwords')\n",
        "def preprocess_text(text: str, remove_stopwords: bool) -> str:\n",
        "    \"\"\"This utility function sanitizes a string by:\n",
        "    - removing links\n",
        "    - removing special characters\n",
        "    - removing numbers\n",
        "    - removing stopwords\n",
        "    - transforming in lowercase\n",
        "    - removing excessive whitespaces\n",
        "    - lemmatizing words\n",
        "    Args:\n",
        "        text (str): the input text you want to clean\n",
        "        remove_stopwords (bool): whether or not to remove stopwords\n",
        "    Returns:\n",
        "        str: the cleaned text\n",
        "    \"\"\"\n",
        "    lemmatizer = WordNetLemmatizer()\n",
        "    # remove links\n",
        "    text = re.sub(r\"http\\S+\", \"\", text)\n",
        "    # remove special chars and numbers\n",
        "    text = re.sub(\"[^A-Za-z]+\", \" \", text)\n",
        "    # remove stopwords\n",
        "    if remove_stopwords:\n",
        "        # 1. tokenize\n",
        "        tokens = nltk.word_tokenize(text)\n",
        "        # 2. check if stopword\n",
        "        tokens = [w for w in tokens if not w.lower() in stopwords.words(\"english\")]\n",
        "        tokens = [lemmatizer.lemmatize(w) for w in tokens]\n",
        "        # 3. join back together\n",
        "        text = \" \".join(tokens)\n",
        "    # return text in lower case and stripped of whitespaces\n",
        "    text = text.lower().strip()\n",
        "    return text"
      ],
      "metadata": {
        "execution": {
          "iopub.status.busy": "2022-05-17T22:47:36.178122Z",
          "iopub.execute_input": "2022-05-17T22:47:36.178375Z",
          "iopub.status.idle": "2022-05-17T22:47:36.194181Z",
          "shell.execute_reply.started": "2022-05-17T22:47:36.178346Z",
          "shell.execute_reply": "2022-05-17T22:47:36.193170Z"
        },
        "trusted": true,
        "colab": {
          "base_uri": "https://localhost:8080/"
        },
        "id": "oYEDU_ewTXdp",
        "outputId": "17456eba-31f7-447b-f7ba-8f3aa5d7f076"
      },
      "execution_count": 4,
      "outputs": [
        {
          "output_type": "stream",
          "name": "stdout",
          "text": [
            "[nltk_data] Downloading package wordnet to /root/nltk_data...\n",
            "[nltk_data]   Unzipping corpora/wordnet.zip.\n",
            "[nltk_data] Downloading package punkt to /root/nltk_data...\n",
            "[nltk_data]   Unzipping tokenizers/punkt.zip.\n",
            "[nltk_data] Downloading package stopwords to /root/nltk_data...\n",
            "[nltk_data]   Unzipping corpora/stopwords.zip.\n"
          ]
        }
      ]
    },
    {
      "cell_type": "code",
      "source": [
        "#clean the data\n",
        "dataset = dataset.map(lambda x:preprocess_text(x,True))"
      ],
      "metadata": {
        "execution": {
          "iopub.status.busy": "2022-05-17T22:47:36.196281Z",
          "iopub.execute_input": "2022-05-17T22:47:36.196692Z",
          "iopub.status.idle": "2022-05-17T22:49:05.785114Z",
          "shell.execute_reply.started": "2022-05-17T22:47:36.196660Z",
          "shell.execute_reply": "2022-05-17T22:49:05.784323Z"
        },
        "trusted": true,
        "id": "9lxW_G2zTXdq"
      },
      "execution_count": 5,
      "outputs": []
    },
    {
      "cell_type": "code",
      "source": [
        "dataset"
      ],
      "metadata": {
        "execution": {
          "iopub.status.busy": "2022-05-17T22:49:05.786642Z",
          "iopub.execute_input": "2022-05-17T22:49:05.787135Z",
          "iopub.status.idle": "2022-05-17T22:49:05.795905Z",
          "shell.execute_reply.started": "2022-05-17T22:49:05.787090Z",
          "shell.execute_reply": "2022-05-17T22:49:05.794942Z"
        },
        "trusted": true,
        "colab": {
          "base_uri": "https://localhost:8080/"
        },
        "id": "lahJ9VUdTXdr",
        "outputId": "82fc2588-8c14-4e47-a032-728394696bfb"
      },
      "execution_count": 6,
      "outputs": [
        {
          "output_type": "execute_result",
          "data": {
            "text/plain": [
              "0       moved borland c visual c today tried compile c...\n",
              "1       nice cop bill sure right idea refer would mind...\n",
              "2       attempting transfer file home computer running...\n",
              "3       murdering would moral significance since would...\n",
              "4       could give much testimonial experience scout b...\n",
              "                              ...                        \n",
              "2847    p atheism incidental question god trivial p p ...\n",
              "2848    still leaf door totally open khomeini hussein ...\n",
              "2849    markus good season modo swedish elite league s...\n",
              "2850         opps typed phone number wrong correct number\n",
              "2851    sorry followup get email address trying decide...\n",
              "Length: 2852, dtype: object"
            ]
          },
          "metadata": {},
          "execution_count": 6
        }
      ]
    },
    {
      "cell_type": "markdown",
      "source": [
        "### Data exploration and visualization"
      ],
      "metadata": {
        "id": "Hu_MFbxoTXdr"
      }
    },
    {
      "cell_type": "code",
      "source": [
        "word_freq = pd.Series(\" \".join(dataset).split()).value_counts()"
      ],
      "metadata": {
        "execution": {
          "iopub.status.busy": "2022-05-17T22:49:05.797383Z",
          "iopub.execute_input": "2022-05-17T22:49:05.797959Z",
          "iopub.status.idle": "2022-05-17T22:49:05.968355Z",
          "shell.execute_reply.started": "2022-05-17T22:49:05.797923Z",
          "shell.execute_reply": "2022-05-17T22:49:05.967610Z"
        },
        "trusted": true,
        "id": "s95AZirqTXds"
      },
      "execution_count": 7,
      "outputs": []
    },
    {
      "cell_type": "code",
      "source": [
        "#most frequented words\n",
        "word_freq[1:10].plot.pie()"
      ],
      "metadata": {
        "execution": {
          "iopub.status.busy": "2022-05-17T22:49:05.969724Z",
          "iopub.execute_input": "2022-05-17T22:49:05.969938Z",
          "iopub.status.idle": "2022-05-17T22:49:06.134345Z",
          "shell.execute_reply.started": "2022-05-17T22:49:05.969912Z",
          "shell.execute_reply": "2022-05-17T22:49:06.133419Z"
        },
        "trusted": true,
        "colab": {
          "base_uri": "https://localhost:8080/",
          "height": 265
        },
        "id": "wEgwUcY5TXds",
        "outputId": "d76f3e5a-b1a2-41af-bed5-ada7b13ff807"
      },
      "execution_count": 8,
      "outputs": [
        {
          "output_type": "execute_result",
          "data": {
            "text/plain": [
              "<matplotlib.axes._subplots.AxesSubplot at 0x7f216fe8ae90>"
            ]
          },
          "metadata": {},
          "execution_count": 8
        },
        {
          "output_type": "display_data",
          "data": {
            "text/plain": [
              "<Figure size 432x288 with 1 Axes>"
            ],
            "image/png": "[encoded data removed]"
          },
          "metadata": {}
        }
      ]
    },
    {
      "cell_type": "code",
      "source": [
        "word_freq[1:10].plot.bar()"
      ],
      "metadata": {
        "execution": {
          "iopub.status.busy": "2022-05-17T22:49:06.136098Z",
          "iopub.execute_input": "2022-05-17T22:49:06.136637Z",
          "iopub.status.idle": "2022-05-17T22:49:06.412844Z",
          "shell.execute_reply.started": "2022-05-17T22:49:06.136585Z",
          "shell.execute_reply": "2022-05-17T22:49:06.411948Z"
        },
        "trusted": true,
        "colab": {
          "base_uri": "https://localhost:8080/",
          "height": 280
        },
        "id": "_OL5chhpTXds",
        "outputId": "74a56491-ce02-4dc2-a8b7-4e7b602929a8"
      },
      "execution_count": 9,
      "outputs": [
        {
          "output_type": "execute_result",
          "data": {
            "text/plain": [
              "<matplotlib.axes._subplots.AxesSubplot at 0x7f216fe79850>"
            ]
          },
          "metadata": {},
          "execution_count": 9
        },
        {
          "output_type": "display_data",
          "data": {
            "text/plain": [
              "<Figure size 432x288 with 1 Axes>"
            ],
            "image/png": "[encoded data removed]"
          },
          "metadata": {
            "needs_background": "light"
          }
        }
      ]
    },
    {
      "cell_type": "code",
      "source": [
        "#least frequented words\n",
        "word_freq[-10:]"
      ],
      "metadata": {
        "execution": {
          "iopub.status.busy": "2022-05-17T22:49:06.414035Z",
          "iopub.execute_input": "2022-05-17T22:49:06.414265Z",
          "iopub.status.idle": "2022-05-17T22:49:06.421502Z",
          "shell.execute_reply.started": "2022-05-17T22:49:06.414236Z",
          "shell.execute_reply": "2022-05-17T22:49:06.420584Z"
        },
        "trusted": true,
        "colab": {
          "base_uri": "https://localhost:8080/"
        },
        "id": "vr9-f3BITXdt",
        "outputId": "ac72d03b-d01b-4f96-a087-4693303f0e86"
      },
      "execution_count": 10,
      "outputs": [
        {
          "output_type": "execute_result",
          "data": {
            "text/plain": [
              "danke        1\n",
              "mcv          1\n",
              "ihre         1\n",
              "scyt         1\n",
              "fineman      1\n",
              "iua          1\n",
              "overcomes    1\n",
              "opo          1\n",
              "uov          1\n",
              "opps         1\n",
              "dtype: int64"
            ]
          },
          "metadata": {},
          "execution_count": 10
        }
      ]
    },
    {
      "cell_type": "code",
      "source": [
        "word_freq[-10:].plot.pie()"
      ],
      "metadata": {
        "execution": {
          "iopub.status.busy": "2022-05-17T22:49:06.422696Z",
          "iopub.execute_input": "2022-05-17T22:49:06.422947Z",
          "iopub.status.idle": "2022-05-17T22:49:06.602394Z",
          "shell.execute_reply.started": "2022-05-17T22:49:06.422919Z",
          "shell.execute_reply": "2022-05-17T22:49:06.601285Z"
        },
        "trusted": true,
        "colab": {
          "base_uri": "https://localhost:8080/",
          "height": 265
        },
        "id": "IR102EpLTXdt",
        "outputId": "321e03d2-1db7-4d83-98ad-3f77245bca08"
      },
      "execution_count": 11,
      "outputs": [
        {
          "output_type": "execute_result",
          "data": {
            "text/plain": [
              "<matplotlib.axes._subplots.AxesSubplot at 0x7f216fe5f550>"
            ]
          },
          "metadata": {},
          "execution_count": 11
        },
        {
          "output_type": "display_data",
          "data": {
            "text/plain": [
              "<Figure size 432x288 with 1 Axes>"
            ],
            "image/png": "[encoded data removed]"
          },
          "metadata": {}
        }
      ]
    },
    {
      "cell_type": "code",
      "source": [
        "word_freq[-10:].plot.bar()"
      ],
      "metadata": {
        "execution": {
          "iopub.status.busy": "2022-05-17T22:49:06.604059Z",
          "iopub.execute_input": "2022-05-17T22:49:06.604468Z",
          "iopub.status.idle": "2022-05-17T22:49:06.890223Z",
          "shell.execute_reply.started": "2022-05-17T22:49:06.604419Z",
          "shell.execute_reply": "2022-05-17T22:49:06.889295Z"
        },
        "trusted": true,
        "colab": {
          "base_uri": "https://localhost:8080/",
          "height": 321
        },
        "id": "z1NusrQGTXdt",
        "outputId": "ca18a6d6-36e8-4eaa-9dbe-7b60c783fe13"
      },
      "execution_count": 12,
      "outputs": [
        {
          "output_type": "execute_result",
          "data": {
            "text/plain": [
              "<matplotlib.axes._subplots.AxesSubplot at 0x7f216fed1b90>"
            ]
          },
          "metadata": {},
          "execution_count": 12
        },
        {
          "output_type": "display_data",
          "data": {
            "text/plain": [
              "<Figure size 432x288 with 1 Axes>"
            ],
            "image/png": "[encoded data removed]"
          },
          "metadata": {
            "needs_background": "light"
          }
        }
      ]
    },
    {
      "cell_type": "code",
      "source": [
        "#labels count\n",
        "true_labels = pd.Series(true_labels)\n",
        "true_labels.value_counts().plot(kind='bar',title='Balanced dataset')"
      ],
      "metadata": {
        "execution": {
          "iopub.status.busy": "2022-05-17T22:49:06.891596Z",
          "iopub.execute_input": "2022-05-17T22:49:06.892322Z",
          "iopub.status.idle": "2022-05-17T22:49:07.104585Z",
          "shell.execute_reply.started": "2022-05-17T22:49:06.892273Z",
          "shell.execute_reply": "2022-05-17T22:49:07.103734Z"
        },
        "trusted": true,
        "colab": {
          "base_uri": "https://localhost:8080/",
          "height": 293
        },
        "id": "bOxJIxV2TXdt",
        "outputId": "07e44108-f0fc-4448-e926-95a04b75894a"
      },
      "execution_count": 13,
      "outputs": [
        {
          "output_type": "execute_result",
          "data": {
            "text/plain": [
              "<matplotlib.axes._subplots.AxesSubplot at 0x7f216fec7b90>"
            ]
          },
          "metadata": {},
          "execution_count": 13
        },
        {
          "output_type": "display_data",
          "data": {
            "text/plain": [
              "<Figure size 432x288 with 1 Axes>"
            ],
            "image/png": "[encoded data removed]"
          },
          "metadata": {
            "needs_background": "light"
          }
        }
      ]
    },
    {
      "cell_type": "markdown",
      "source": [
        "### Task 3: create vector representation of each document using TF-IDF encoding"
      ],
      "metadata": {
        "id": "yNeqedQ8TXdt"
      }
    },
    {
      "cell_type": "code",
      "source": [
        "pipe_tfIDF = Pipeline([(\"tfidf\", TfidfVectorizer(analyzer=\"word\", max_df=0.3, min_df=10, ngram_range=(1, 3)))])\n",
        "pipe_tfIDF.fit(dataset)\n",
        "dataset_vec = pipe_tfIDF.transform(dataset)\n",
        "dataset_vec = dataset_vec.toarray()"
      ],
      "metadata": {
        "execution": {
          "iopub.status.busy": "2022-05-17T22:49:07.108229Z",
          "iopub.execute_input": "2022-05-17T22:49:07.108836Z",
          "iopub.status.idle": "2022-05-17T22:49:10.227436Z",
          "shell.execute_reply.started": "2022-05-17T22:49:07.108791Z",
          "shell.execute_reply": "2022-05-17T22:49:10.226462Z"
        },
        "trusted": true,
        "id": "jg0Eq9wxTXdu"
      },
      "execution_count": 14,
      "outputs": []
    },
    {
      "cell_type": "markdown",
      "source": [
        "### Task 4: Apply Kmeans and Kmeans++ on the above extracted document vectors. Brifely describe how would you select the value of k. \n",
        "\n",
        "By implementing the **“elbow”** will help us to select the optimal number of clusters by fitting the model with a range of values for **K**. If the line chart resembles an arm, then the **“elbow” (the point of inflection on the curve)** is a good indication that the underlying model fits best at that point."
      ],
      "metadata": {
        "id": "FBSVc8RdTXdu"
      }
    },
    {
      "cell_type": "code",
      "source": [
        "model = KMeans()\n",
        "visualizer = KElbowVisualizer(model, k=(2,20))\n",
        "\n",
        "visualizer.fit(dataset_vec)        # Fit the data to the visualizer\n",
        "visualizer.show()        # Finalize and render the figure"
      ],
      "metadata": {
        "execution": {
          "iopub.status.busy": "2022-05-17T22:49:10.228636Z",
          "iopub.execute_input": "2022-05-17T22:49:10.228883Z",
          "iopub.status.idle": "2022-05-17T22:50:58.898586Z",
          "shell.execute_reply.started": "2022-05-17T22:49:10.228852Z",
          "shell.execute_reply": "2022-05-17T22:50:58.897749Z"
        },
        "trusted": true,
        "colab": {
          "base_uri": "https://localhost:8080/",
          "height": 311
        },
        "id": "lXpYwsDETXdu",
        "outputId": "33595962-6141-4e1f-d897-5f59a518e2ce"
      },
      "execution_count": 15,
      "outputs": [
        {
          "output_type": "display_data",
          "data": {
            "text/plain": [
              "<Figure size 432x288 with 2 Axes>"
            ],
            "image/png": "[encoded data removed]"
          },
          "metadata": {}
        },
        {
          "output_type": "execute_result",
          "data": {
            "text/plain": [
              "<matplotlib.axes._subplots.AxesSubplot at 0x7f216d961fd0>"
            ]
          },
          "metadata": {},
          "execution_count": 15
        }
      ]
    },
    {
      "cell_type": "markdown",
      "source": [
        "Apply best K for KMeans and K_means"
      ],
      "metadata": {
        "id": "-0H7S6drTXdu"
      }
    },
    {
      "cell_type": "code",
      "source": [
        "#KMeans on original data\n",
        "clustring_0 = KMeans(n_clusters=8, random_state=0).fit(dataset_vec)"
      ],
      "metadata": {
        "execution": {
          "iopub.status.busy": "2022-05-17T22:53:47.111216Z",
          "iopub.execute_input": "2022-05-17T22:53:47.111730Z",
          "iopub.status.idle": "2022-05-17T22:53:53.645166Z",
          "shell.execute_reply.started": "2022-05-17T22:53:47.111686Z",
          "shell.execute_reply": "2022-05-17T22:53:53.644365Z"
        },
        "trusted": true,
        "id": "5l7WIyaNTXdv"
      },
      "execution_count": 18,
      "outputs": []
    },
    {
      "cell_type": "code",
      "source": [
        "#k-means++ on origianl data\n",
        "clustring_1 = k_means(X = dataset_vec, n_clusters = 8, init='k-means++')\n",
        "#random k-means on original data\n",
        "clustring_2 = k_means(X = dataset_vec, n_clusters = 8, init='random')"
      ],
      "metadata": {
        "execution": {
          "iopub.status.busy": "2022-05-17T22:53:57.149241Z",
          "iopub.execute_input": "2022-05-17T22:53:57.149554Z",
          "iopub.status.idle": "2022-05-17T22:54:10.135658Z",
          "shell.execute_reply.started": "2022-05-17T22:53:57.149521Z",
          "shell.execute_reply": "2022-05-17T22:54:10.134781Z"
        },
        "trusted": true,
        "id": "QDSLHFBaTXdv"
      },
      "execution_count": 19,
      "outputs": []
    },
    {
      "cell_type": "code",
      "source": [
        "clustring_1"
      ],
      "metadata": {
        "execution": {
          "iopub.status.busy": "2022-05-17T22:54:10.139725Z",
          "iopub.execute_input": "2022-05-17T22:54:10.141928Z",
          "iopub.status.idle": "2022-05-17T22:54:10.151386Z",
          "shell.execute_reply.started": "2022-05-17T22:54:10.141881Z",
          "shell.execute_reply": "2022-05-17T22:54:10.150535Z"
        },
        "trusted": true,
        "colab": {
          "base_uri": "https://localhost:8080/"
        },
        "id": "2eCsvw4GTXdv",
        "outputId": "6c4ad916-eb18-4035-a399-bb276f2ade4e"
      },
      "execution_count": 20,
      "outputs": [
        {
          "output_type": "execute_result",
          "data": {
            "text/plain": [
              "(array([[-6.50521303e-19, -3.90312782e-18,  2.55361519e-05, ...,\n",
              "          6.77626358e-20,  1.51788304e-18,  6.77626358e-20],\n",
              "        [ 1.62013221e-04,  2.00418930e-03,  1.00929972e-03, ...,\n",
              "          1.11394358e-04,  1.32802559e-03,  1.98853410e-04],\n",
              "        [ 2.16840434e-19,  0.00000000e+00,  2.35832019e-03, ...,\n",
              "         -1.35525272e-20,  0.00000000e+00,  1.35525272e-20],\n",
              "        ...,\n",
              "        [-3.25260652e-19, -1.95156391e-18,  0.00000000e+00, ...,\n",
              "          2.03287907e-20,  1.30104261e-18, -5.42101086e-20],\n",
              "        [ 2.49815319e-03,  3.29626194e-03,  1.87941532e-03, ...,\n",
              "         -1.35525272e-19,  3.08790937e-03, -2.03287907e-19],\n",
              "        [ 6.93369142e-05, -2.16840434e-19,  6.66782540e-05, ...,\n",
              "          3.46713817e-04,  0.00000000e+00,  7.19627363e-05]]),\n",
              " array([3, 1, 0, ..., 6, 1, 3], dtype=int32),\n",
              " 2616.474725399996)"
            ]
          },
          "metadata": {},
          "execution_count": 20
        }
      ]
    },
    {
      "cell_type": "markdown",
      "source": [
        "### Task 5: perform tricks on the above two approaches by considering the high-dimensional nature of the dataset, you can consider PCA (from sklearn.decomposition import PCA), or other methods."
      ],
      "metadata": {
        "id": "gnACBpY4TXdv"
      }
    },
    {
      "cell_type": "code",
      "source": [
        "reduce_data = TruncatedSVD(n_components=5, n_iter=7, random_state=42)\n",
        "reduced_data = reduce_data.fit_transform(dataset_vec)\n",
        "reduced_data"
      ],
      "metadata": {
        "execution": {
          "iopub.status.busy": "2022-05-17T22:54:23.013301Z",
          "iopub.execute_input": "2022-05-17T22:54:23.014038Z",
          "iopub.status.idle": "2022-05-17T22:54:23.994256Z",
          "shell.execute_reply.started": "2022-05-17T22:54:23.013994Z",
          "shell.execute_reply": "2022-05-17T22:54:23.993263Z"
        },
        "trusted": true,
        "colab": {
          "base_uri": "https://localhost:8080/"
        },
        "id": "OS5G55AYTXdv",
        "outputId": "3ca20fb7-9233-4ac5-c68d-5817e851e873"
      },
      "execution_count": 21,
      "outputs": [
        {
          "output_type": "execute_result",
          "data": {
            "text/plain": [
              "array([[ 0.09452686,  0.08033693,  0.00696315,  0.00541783, -0.01088549],\n",
              "       [ 0.10310656, -0.01347229,  0.04266704,  0.00289697, -0.02892662],\n",
              "       [ 0.15037008,  0.20967095, -0.09297389,  0.21324747, -0.01913102],\n",
              "       ...,\n",
              "       [ 0.19423115, -0.13649273, -0.08176658,  0.01247254, -0.01659327],\n",
              "       [ 0.06282109,  0.00139355,  0.01028318, -0.0006119 , -0.01500375],\n",
              "       [ 0.15059158,  0.0510989 ,  0.03675288, -0.05138408, -0.06650197]])"
            ]
          },
          "metadata": {},
          "execution_count": 21
        }
      ]
    },
    {
      "cell_type": "markdown",
      "source": [
        "Choose best K for reduced data"
      ],
      "metadata": {
        "id": "3JnL0gXITXdv"
      }
    },
    {
      "cell_type": "code",
      "source": [
        "model = KMeans()\n",
        "visualizer = KElbowVisualizer(model, k=(2,20))\n",
        "\n",
        "visualizer.fit(reduced_data)        # Fit the data to the visualizer\n",
        "visualizer.show()        # Finalize and render the figure"
      ],
      "metadata": {
        "execution": {
          "iopub.status.busy": "2022-05-17T22:56:17.489424Z",
          "iopub.execute_input": "2022-05-17T22:56:17.489714Z",
          "iopub.status.idle": "2022-05-17T22:56:44.026997Z",
          "shell.execute_reply.started": "2022-05-17T22:56:17.489684Z",
          "shell.execute_reply": "2022-05-17T22:56:44.025165Z"
        },
        "trusted": true,
        "colab": {
          "base_uri": "https://localhost:8080/",
          "height": 311
        },
        "id": "FIti595STXdw",
        "outputId": "47df24b1-18ca-4a60-8dc1-e541a80f05dc"
      },
      "execution_count": 22,
      "outputs": [
        {
          "output_type": "display_data",
          "data": {
            "text/plain": [
              "<Figure size 432x288 with 2 Axes>"
            ],
            "image/png": "[encoded data removed]"
          },
          "metadata": {}
        },
        {
          "output_type": "execute_result",
          "data": {
            "text/plain": [
              "<matplotlib.axes._subplots.AxesSubplot at 0x7f216de14550>"
            ]
          },
          "metadata": {},
          "execution_count": 22
        }
      ]
    },
    {
      "cell_type": "code",
      "source": [
        "#KMeans on reduced data\n",
        "clustring_3 = KMeans(n_clusters=6, random_state=0).fit(reduced_data)"
      ],
      "metadata": {
        "id": "ZigQQBUgTXdw"
      },
      "execution_count": 27,
      "outputs": []
    },
    {
      "cell_type": "code",
      "source": [
        "#k-means++ on reduced data\n",
        "clustring_4 = k_means(X = reduced_data, n_clusters = 6, init='k-means++')\n",
        "#random k-means on reduced data\n",
        "clustring_5 = k_means(X = reduced_data, n_clusters = 6, init='random')"
      ],
      "metadata": {
        "execution": {
          "iopub.status.busy": "2022-05-17T22:57:17.037428Z",
          "iopub.execute_input": "2022-05-17T22:57:17.037731Z",
          "iopub.status.idle": "2022-05-17T22:57:18.540376Z",
          "shell.execute_reply.started": "2022-05-17T22:57:17.037700Z",
          "shell.execute_reply": "2022-05-17T22:57:18.539696Z"
        },
        "trusted": true,
        "id": "tiZtTt-3TXdw"
      },
      "execution_count": 28,
      "outputs": []
    },
    {
      "cell_type": "markdown",
      "source": [
        "### Task 6: compare the performance of the above four approaches on the given dataset using mutual information based scores:"
      ],
      "metadata": {
        "id": "kXS_CvTZVK1f"
      }
    },
    {
      "cell_type": "code",
      "source": [
        "mutual_info_score(true_labels,clustring_0.labels_)"
      ],
      "metadata": {
        "execution": {
          "iopub.status.busy": "2022-05-17T22:57:55.393565Z",
          "iopub.execute_input": "2022-05-17T22:57:55.393873Z",
          "iopub.status.idle": "2022-05-17T22:57:55.413240Z",
          "shell.execute_reply.started": "2022-05-17T22:57:55.393843Z",
          "shell.execute_reply": "2022-05-17T22:57:55.412079Z"
        },
        "trusted": true,
        "colab": {
          "base_uri": "https://localhost:8080/"
        },
        "id": "NFdNgd67TXdw",
        "outputId": "294323c4-1f5e-4e12-b535-174ae93030a5"
      },
      "execution_count": 29,
      "outputs": [
        {
          "output_type": "execute_result",
          "data": {
            "text/plain": [
              "0.6414124553739377"
            ]
          },
          "metadata": {},
          "execution_count": 29
        }
      ]
    },
    {
      "cell_type": "code",
      "source": [
        "mutual_info_score(true_labels,clustring_1[-2])"
      ],
      "metadata": {
        "execution": {
          "iopub.status.busy": "2022-05-17T22:57:18.541726Z",
          "iopub.execute_input": "2022-05-17T22:57:18.542215Z",
          "iopub.status.idle": "2022-05-17T22:57:18.550747Z",
          "shell.execute_reply.started": "2022-05-17T22:57:18.542175Z",
          "shell.execute_reply": "2022-05-17T22:57:18.550106Z"
        },
        "trusted": true,
        "colab": {
          "base_uri": "https://localhost:8080/"
        },
        "id": "n-qq5oFUTXdw",
        "outputId": "4f3bd248-de05-4664-d71f-a67c8f001ec8"
      },
      "execution_count": 30,
      "outputs": [
        {
          "output_type": "execute_result",
          "data": {
            "text/plain": [
              "0.6041518187595353"
            ]
          },
          "metadata": {},
          "execution_count": 30
        }
      ]
    },
    {
      "cell_type": "code",
      "source": [
        "clustring_2[-2]\n",
        "mutual_info_score(true_labels,clustring_2[-2])"
      ],
      "metadata": {
        "execution": {
          "iopub.status.busy": "2022-05-17T22:57:19.854197Z",
          "iopub.execute_input": "2022-05-17T22:57:19.854492Z",
          "iopub.status.idle": "2022-05-17T22:57:19.864511Z",
          "shell.execute_reply.started": "2022-05-17T22:57:19.854447Z",
          "shell.execute_reply": "2022-05-17T22:57:19.863624Z"
        },
        "trusted": true,
        "colab": {
          "base_uri": "https://localhost:8080/"
        },
        "id": "-rZTs2y4TXdw",
        "outputId": "a9e5a504-ffae-40e3-86ff-ea6863dc0c31"
      },
      "execution_count": 31,
      "outputs": [
        {
          "output_type": "execute_result",
          "data": {
            "text/plain": [
              "0.5811735623961574"
            ]
          },
          "metadata": {},
          "execution_count": 31
        }
      ]
    },
    {
      "cell_type": "code",
      "source": [
        "mutual_info_score(true_labels,clustring_3.labels_)"
      ],
      "metadata": {
        "execution": {
          "iopub.status.busy": "2022-05-17T22:57:19.866512Z",
          "iopub.execute_input": "2022-05-17T22:57:19.866887Z",
          "iopub.status.idle": "2022-05-17T22:57:19.877933Z",
          "shell.execute_reply.started": "2022-05-17T22:57:19.866833Z",
          "shell.execute_reply": "2022-05-17T22:57:19.877044Z"
        },
        "trusted": true,
        "colab": {
          "base_uri": "https://localhost:8080/"
        },
        "id": "96wgDJcQTXdx",
        "outputId": "18887f50-5046-450d-aa44-5ffa4a42c73b"
      },
      "execution_count": 32,
      "outputs": [
        {
          "output_type": "execute_result",
          "data": {
            "text/plain": [
              "0.5291230516235372"
            ]
          },
          "metadata": {},
          "execution_count": 32
        }
      ]
    },
    {
      "cell_type": "code",
      "source": [
        "mutual_info_score(true_labels,clustring_4[-2])"
      ],
      "metadata": {
        "execution": {
          "iopub.status.busy": "2022-05-17T22:57:28.084718Z",
          "iopub.execute_input": "2022-05-17T22:57:28.084985Z",
          "iopub.status.idle": "2022-05-17T22:57:28.093898Z",
          "shell.execute_reply.started": "2022-05-17T22:57:28.084956Z",
          "shell.execute_reply": "2022-05-17T22:57:28.093152Z"
        },
        "trusted": true,
        "colab": {
          "base_uri": "https://localhost:8080/"
        },
        "id": "R_2MS7I6TXdx",
        "outputId": "c3e687ad-11c6-4280-f47c-9568776e4815"
      },
      "execution_count": 33,
      "outputs": [
        {
          "output_type": "execute_result",
          "data": {
            "text/plain": [
              "0.5270526509812722"
            ]
          },
          "metadata": {},
          "execution_count": 33
        }
      ]
    },
    {
      "cell_type": "code",
      "source": [
        "mutual_info_score(true_labels,clustring_5[-2])"
      ],
      "metadata": {
        "colab": {
          "base_uri": "https://localhost:8080/"
        },
        "id": "jwfwYcUiTXdx",
        "outputId": "53df58b1-86bf-4bef-bbeb-0ddabdc37e8d"
      },
      "execution_count": 34,
      "outputs": [
        {
          "output_type": "execute_result",
          "data": {
            "text/plain": [
              "0.5287333762758437"
            ]
          },
          "metadata": {},
          "execution_count": 34
        }
      ]
    },
    {
      "cell_type": "markdown",
      "source": [
        "### From above results we can see that the best mutual score is clustring_0 labels and it's using KMeans with 8 clusters, and the worset score was using k-means random with 6 clusters, and in general, we shouldn't reduced the data if we want to get high results since the clustring original data give us better results."
      ],
      "metadata": {
        "id": "Idn9ZE2pWhJf"
      }
    }
  ]
}