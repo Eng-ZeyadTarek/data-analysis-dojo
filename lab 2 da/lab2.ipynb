{
  "cells": [
    {
      "cell_type": "markdown",
      "metadata": {
        "id": "pa9LCoMAqfhR"
      },
      "source": [
        "# EDA, Feature Engineering, and AutoML\n",
        "\n",
        "In this lab, we will apply learned concepts from Day 3-4 lectures to perform data exploration, feature engineering, and autoML on a house sale dataset.\n",
        "\n",
        "The goal of this assignment is to analyze 3 years’(2018-2020) house sales data provided by New York City (NYC) goverment and build regression model to predict house price. NYC has five boroughs, i.e., Bronx, Brooklyn, Manhattan, Queens and Staten Island. Sales of houses in each borough has been provided.\n",
        "\n",
        "\n",
        "**Submission: submit via onq.** \n"
      ]
    },
    {
      "cell_type": "code",
      "execution_count": null,
      "metadata": {
        "execution": {
          "iopub.execute_input": "2022-04-26T02:17:13.341493Z",
          "iopub.status.busy": "2022-04-26T02:17:13.341082Z",
          "iopub.status.idle": "2022-04-26T02:17:13.349978Z",
          "shell.execute_reply": "2022-04-26T02:17:13.348911Z",
          "shell.execute_reply.started": "2022-04-26T02:17:13.341447Z"
        },
        "id": "cb_t8yhUqfhU",
        "trusted": true
      },
      "outputs": [],
      "source": [
        "# Import needed libraries. E.g., pandas, missingno, and sklearn\n",
        "import pandas as pd\n",
        "import glob\n",
        "import sklearn\n",
        "import missingno\n",
        "from collections import Counter\n",
        "import os\n",
        "from IPython.display import display_html \n",
        "from scipy import stats\n",
        "import seaborn as sns\n",
        "import numpy as np\n",
        "from sklearn.preprocessing import MinMaxScaler\n",
        "from scipy.stats import ttest_ind\n",
        "from sklearn.model_selection import train_test_split\n",
        "import matplotlib.pyplot as plt\n",
        "import zipfile\n",
        "from pprint import pprint\n",
        "from sklearn.metrics import mean_squared_error\n",
        "from sklearn.preprocessing import LabelEncoder\n",
        "#!pip install -U scikit-learn\n",
        "#!sudo apt-get install build-essential swig\n",
        "#!curl https://raw.githubusercontent.com/automl/auto-sklearn/master/requirements.txt | xargs -n 1 -L 1 pip install\n",
        "#!pip install auto-sklearn\n",
        "\n",
        "import autosklearn.regression\n",
        "\n",
        "\n",
        "pd.set_option('display.max_columns', None)\n",
        "pd.set_option('display.max_rows', None)\n"
      ]
    },
    {
      "cell_type": "markdown",
      "metadata": {
        "id": "79kraPsGqfhV"
      },
      "source": [
        "Task 1: Read dataset, merge data, and  perform basic data exploration. Note, you should briefely discuss the quality of dataset (missing values, duplicate entries, etc.) Also, in task 3, you would be asked to perform prediction on house sale price, thus it would be good to consider outliers related to this prediciton task when you perform data cleaning."
      ]
    },
    {
      "cell_type": "code",
      "execution_count": null,
      "metadata": {
        "execution": {
          "iopub.execute_input": "2022-04-26T02:17:13.414215Z",
          "iopub.status.busy": "2022-04-26T02:17:13.413832Z",
          "iopub.status.idle": "2022-04-26T02:17:14.996120Z",
          "shell.execute_reply": "2022-04-26T02:17:14.995006Z",
          "shell.execute_reply.started": "2022-04-26T02:17:13.414174Z"
        },
        "id": "FOlduG5rqfhW",
        "trusted": true
      },
      "outputs": [],
      "source": [
        "# TODO write code to perform task 1\n",
        "\n",
        "with zipfile.ZipFile('/content/drive/MyDrive/Colab Notebooks/Datasets/Newyork cities.zip', 'r') as zip_ref:\n",
        "    zip_ref.extractall('/content')\n",
        "\n",
        "\n",
        "path = r'/content/Newyork cities' # use your path\n",
        "\n",
        "#Read all files\n",
        "data = pd.concat(map(pd.read_csv, glob.glob(os.path.join(path, \"*.csv\"))))\n",
        "\n",
        "\n",
        "#drop redundant columns\n",
        "cols = list(range(21,42))\n",
        "data.drop(data.columns[cols],axis=1,inplace=True)\n",
        "\n",
        "'''Remove \\n from column names'''\n",
        "col = list(data.columns)\n",
        "for i in range(len(col)):\n",
        "    col[i] = col[i].replace('\\n','')\n",
        "\n",
        "#assign new columns names\n",
        "data.columns = col\n",
        "print(col)\n",
        "data.sample(25)"
      ]
    },
    {
      "cell_type": "code",
      "execution_count": null,
      "metadata": {
        "execution": {
          "iopub.execute_input": "2022-04-26T02:17:14.999238Z",
          "iopub.status.busy": "2022-04-26T02:17:14.998345Z",
          "iopub.status.idle": "2022-04-26T02:17:15.305739Z",
          "shell.execute_reply": "2022-04-26T02:17:15.304630Z",
          "shell.execute_reply.started": "2022-04-26T02:17:14.999189Z"
        },
        "id": "w_O8zcz1qfhW",
        "trusted": true
      },
      "outputs": [],
      "source": [
        "data.info()"
      ]
    },
    {
      "cell_type": "markdown",
      "metadata": {
        "id": "y3u3qcEdqfhX"
      },
      "source": [
        "### Check and handling the consistant duplicated values in this dataset."
      ]
    },
    {
      "cell_type": "code",
      "execution_count": null,
      "metadata": {
        "execution": {
          "iopub.execute_input": "2022-04-26T02:17:15.308331Z",
          "iopub.status.busy": "2022-04-26T02:17:15.307443Z",
          "iopub.status.idle": "2022-04-26T02:17:17.017446Z",
          "shell.execute_reply": "2022-04-26T02:17:17.016362Z",
          "shell.execute_reply.started": "2022-04-26T02:17:15.308288Z"
        },
        "id": "WfGfe3P6qfhX",
        "trusted": true
      },
      "outputs": [],
      "source": [
        "print(f\"There are {data.duplicated().sum()} consistant duplicated values.\")\n",
        "data = data.drop_duplicates()\n",
        "data.reset_index(drop=True, inplace=True)\n",
        "\n",
        "print(f\"There are {data.duplicated().sum()} consistant duplicated values now.\")"
      ]
    },
    {
      "cell_type": "code",
      "execution_count": null,
      "metadata": {
        "execution": {
          "iopub.execute_input": "2022-04-26T02:17:17.021116Z",
          "iopub.status.busy": "2022-04-26T02:17:17.020635Z",
          "iopub.status.idle": "2022-04-26T02:17:17.056269Z",
          "shell.execute_reply": "2022-04-26T02:17:17.055286Z",
          "shell.execute_reply.started": "2022-04-26T02:17:17.021077Z"
        },
        "id": "8ewVtAbJqfhY",
        "trusted": true
      },
      "outputs": [],
      "source": [
        "#most 15 frequented value in SALE data\n",
        "data['SALE DATE'].value_counts()[:15]"
      ]
    },
    {
      "cell_type": "markdown",
      "metadata": {
        "id": "VlNCRunoqfhY"
      },
      "source": [
        "### Check and handling the missing values values in this dataset."
      ]
    },
    {
      "cell_type": "code",
      "execution_count": null,
      "metadata": {
        "execution": {
          "iopub.execute_input": "2022-04-26T02:17:17.058208Z",
          "iopub.status.busy": "2022-04-26T02:17:17.057853Z",
          "iopub.status.idle": "2022-04-26T02:17:17.763017Z",
          "shell.execute_reply": "2022-04-26T02:17:17.761831Z",
          "shell.execute_reply.started": "2022-04-26T02:17:17.058159Z"
        },
        "id": "oJQTi1s4qfhZ",
        "trusted": true
      },
      "outputs": [],
      "source": [
        "if data.isna().values.any() == True:\n",
        "    #this condidtion will be evaluated.\n",
        "    print(\"There are missing values in this dataframe\")\n",
        "else:\n",
        "    print(\"There aren't missing values in this dataframe\")\n",
        "total_miss = data.isnull().sum()\n",
        "percent_miss = (total_miss/data.isnull().count()*100)\n",
        "\n",
        "# sort attributes by missing value ratio\n",
        "missing_data = pd.DataFrame({'Total missing':total_miss,'% missing':percent_miss})\n",
        "missing_data.sort_values(by='Total missing',ascending=False)"
      ]
    },
    {
      "cell_type": "code",
      "execution_count": null,
      "metadata": {
        "execution": {
          "iopub.execute_input": "2022-04-26T02:17:17.764923Z",
          "iopub.status.busy": "2022-04-26T02:17:17.764554Z",
          "iopub.status.idle": "2022-04-26T02:17:19.914343Z",
          "shell.execute_reply": "2022-04-26T02:17:19.913382Z",
          "shell.execute_reply.started": "2022-04-26T02:17:17.764874Z"
        },
        "id": "Gp4qc-AtqfhZ",
        "trusted": true
      },
      "outputs": [],
      "source": [
        "missingno.matrix(data)"
      ]
    },
    {
      "cell_type": "markdown",
      "metadata": {
        "id": "R_tSkekjqfhZ"
      },
      "source": [
        "'BOROUGH', 'NEIGHBORHOOD', 'BUILDING CLASS CATEGORY', 'BLOCK', 'LOT', 'ADDRESS', 'TAX CLASS AT TIME OF SALE', 'BUILDING CLASS AT TIME OF SALE', 'SALE PRICE', 'SALE DATE' features follow the same patterns in missing values<br>\n",
        "\n",
        "There are only 1 missing value after dropping the duplicates so they could be follow the **MCAR** mechanism.\n",
        "\n",
        "There are only 17 missing value in ZIP CODE feature after dropping the duplicates so it could be follow the **MCAR** mechanism.\n",
        "\n",
        "\n",
        "YEAR BUILT and APARTMENT NUMBER doesn't follow any pattern so they are maybe following **MCAR** mechanism pattern and they have a lot of missing values so I'll drop the entire column."
      ]
    },
    {
      "cell_type": "markdown",
      "metadata": {
        "id": "g65PFT42qfha"
      },
      "source": [
        "I'll drop the missing values in the features that follows **MCAR** mechanism excpt for **YEAR BUILT** and **APARTMENT NUMBER**."
      ]
    },
    {
      "cell_type": "code",
      "execution_count": null,
      "metadata": {
        "execution": {
          "iopub.execute_input": "2022-04-26T02:17:19.915922Z",
          "iopub.status.busy": "2022-04-26T02:17:19.915687Z",
          "iopub.status.idle": "2022-04-26T02:17:20.079733Z",
          "shell.execute_reply": "2022-04-26T02:17:20.078677Z",
          "shell.execute_reply.started": "2022-04-26T02:17:19.915894Z"
        },
        "id": "nYMAPcZoqfha",
        "trusted": true
      },
      "outputs": [],
      "source": [
        "data = data.dropna(axis='rows',subset=['BOROUGH', 'NEIGHBORHOOD','ZIP CODE', 'BUILDING CLASS CATEGORY', 'BLOCK', 'LOT', 'ADDRESS', 'TAX CLASS AT TIME OF SALE', 'BUILDING CLASS AT TIME OF SALE', 'SALE PRICE', 'SALE DATE'])"
      ]
    },
    {
      "cell_type": "markdown",
      "metadata": {
        "id": "WVH7kNceqfha"
      },
      "source": [
        "I'll drop the EASE-MENT and APARTMENT NUMBER feature since the most of their data are missing values and they don't have any pattern with another feature."
      ]
    },
    {
      "cell_type": "code",
      "execution_count": null,
      "metadata": {
        "execution": {
          "iopub.execute_input": "2022-04-26T02:17:20.081706Z",
          "iopub.status.busy": "2022-04-26T02:17:20.081319Z",
          "iopub.status.idle": "2022-04-26T02:17:20.114672Z",
          "shell.execute_reply": "2022-04-26T02:17:20.113639Z",
          "shell.execute_reply.started": "2022-04-26T02:17:20.081660Z"
        },
        "id": "1vzGjlTiqfhb",
        "trusted": true
      },
      "outputs": [],
      "source": [
        "data = data.drop(['EASE-MENT', 'APARTMENT NUMBER'],axis=1)"
      ]
    },
    {
      "cell_type": "code",
      "execution_count": null,
      "metadata": {
        "execution": {
          "iopub.execute_input": "2022-04-26T02:17:20.116159Z",
          "iopub.status.busy": "2022-04-26T02:17:20.115917Z",
          "iopub.status.idle": "2022-04-26T02:17:22.141202Z",
          "shell.execute_reply": "2022-04-26T02:17:22.140171Z",
          "shell.execute_reply.started": "2022-04-26T02:17:20.116129Z"
        },
        "id": "oMBAb5BHqfhb",
        "trusted": true
      },
      "outputs": [],
      "source": [
        "missingno.matrix(data)"
      ]
    },
    {
      "cell_type": "code",
      "execution_count": null,
      "metadata": {
        "execution": {
          "iopub.execute_input": "2022-04-26T02:17:22.144459Z",
          "iopub.status.busy": "2022-04-26T02:17:22.144037Z",
          "iopub.status.idle": "2022-04-26T02:17:24.131832Z",
          "shell.execute_reply": "2022-04-26T02:17:24.130842Z",
          "shell.execute_reply.started": "2022-04-26T02:17:22.144412Z"
        },
        "id": "uxZRJ5rkqfhb",
        "trusted": true
      },
      "outputs": [],
      "source": [
        "missingno.bar(data)"
      ]
    },
    {
      "cell_type": "code",
      "execution_count": null,
      "metadata": {
        "execution": {
          "iopub.execute_input": "2022-04-26T02:17:24.133283Z",
          "iopub.status.busy": "2022-04-26T02:17:24.133036Z",
          "iopub.status.idle": "2022-04-26T02:17:25.044378Z",
          "shell.execute_reply": "2022-04-26T02:17:25.043512Z",
          "shell.execute_reply.started": "2022-04-26T02:17:24.133251Z"
        },
        "id": "LiOP4xw_qfhb",
        "trusted": true
      },
      "outputs": [],
      "source": [
        "missingno.heatmap(data)"
      ]
    },
    {
      "cell_type": "code",
      "execution_count": null,
      "metadata": {
        "execution": {
          "iopub.execute_input": "2022-04-26T02:17:25.046768Z",
          "iopub.status.busy": "2022-04-26T02:17:25.046098Z",
          "iopub.status.idle": "2022-04-26T02:17:25.802507Z",
          "shell.execute_reply": "2022-04-26T02:17:25.801595Z",
          "shell.execute_reply.started": "2022-04-26T02:17:25.046714Z"
        },
        "id": "Qh5XKfk6qfhb",
        "trusted": true
      },
      "outputs": [],
      "source": [
        "missingno.dendrogram(data)"
      ]
    },
    {
      "cell_type": "markdown",
      "metadata": {
        "id": "2hJdoXGOqfhc"
      },
      "source": [
        "'TAX CLASS AS OF FINAL ROLL 18/19', 'BUILDING CLASS AS OF FINAL ROLL 18/19' are following the same patterns in missing values.\n",
        "\n",
        "'RESIDENTIAL UNITS', 'COMMERCIAL UNITS', 'TOTAL UNITS', 'LAND SQUARE FEET', 'GROSS SQUARE FEET' features follow the same patterns in missing values."
      ]
    },
    {
      "cell_type": "markdown",
      "metadata": {
        "id": "b7tcvvEAqfhc"
      },
      "source": [
        "### Let's analyiz and deal with missing values at **'TAX CLASS AS OF FINAL ROLL 18/19', 'BUILDING CLASS AS OF FINAL ROLL 18/19'** features."
      ]
    },
    {
      "cell_type": "code",
      "execution_count": null,
      "metadata": {
        "execution": {
          "iopub.execute_input": "2022-04-26T02:17:25.804896Z",
          "iopub.status.busy": "2022-04-26T02:17:25.803978Z",
          "iopub.status.idle": "2022-04-26T02:17:25.838382Z",
          "shell.execute_reply": "2022-04-26T02:17:25.837272Z",
          "shell.execute_reply.started": "2022-04-26T02:17:25.804836Z"
        },
        "id": "YDSOqO1Nqfhc",
        "trusted": true
      },
      "outputs": [],
      "source": [
        "data['TAX CLASS AS OF FINAL ROLL 18/19'].value_counts()"
      ]
    },
    {
      "cell_type": "code",
      "execution_count": null,
      "metadata": {
        "execution": {
          "iopub.execute_input": "2022-04-26T02:17:25.840731Z",
          "iopub.status.busy": "2022-04-26T02:17:25.840045Z",
          "iopub.status.idle": "2022-04-26T02:17:25.877246Z",
          "shell.execute_reply": "2022-04-26T02:17:25.876593Z",
          "shell.execute_reply.started": "2022-04-26T02:17:25.840676Z"
        },
        "id": "3gV35PCTqfhc",
        "trusted": true
      },
      "outputs": [],
      "source": [
        "#most 15 frequented value in BUILDING CLASS AS OF FINAL ROLL 18/19\n",
        "data['BUILDING CLASS AS OF FINAL ROLL 18/19'].value_counts()[:15]"
      ]
    },
    {
      "cell_type": "code",
      "execution_count": null,
      "metadata": {
        "execution": {
          "iopub.execute_input": "2022-04-26T02:17:25.878904Z",
          "iopub.status.busy": "2022-04-26T02:17:25.878298Z",
          "iopub.status.idle": "2022-04-26T02:17:25.986311Z",
          "shell.execute_reply": "2022-04-26T02:17:25.985361Z",
          "shell.execute_reply.started": "2022-04-26T02:17:25.878869Z"
        },
        "id": "4vNQmg3aqfhc",
        "trusted": true
      },
      "outputs": [],
      "source": [
        "#you can change the value of TAX CLASS AS OF FINAL ROLL 18/19 with BUILDING CLASS AS OF FINAL ROLL 18/19, since they are follow the same patterns. \n",
        "\n",
        "#check how many missing values in TAX CLASS AS OF FINAL ROLL 18/19 or BUILDING CLASS AS OF FINAL ROLL 18/19 at each BOROUGH value\n",
        "analysis_1 = pd.DataFrame.from_dict(Counter(data['BOROUGH'].loc[data['TAX CLASS AS OF FINAL ROLL 18/19'].isna()]), orient='index', columns = ['number of missings']).reset_index().sort_values('number of missings',ascending =False)\n",
        "analysis_1.rename(columns={'index': 'BOROUGH'}, inplace = True)\n",
        "\n",
        "#check how many missing values in TAX CLASS AS OF FINAL ROLL 18/19 or BUILDING CLASS AS OF FINAL ROLL 18/19 at each NEIGHBORHOOD value\n",
        "analysis_2 = pd.DataFrame.from_dict(Counter(data['NEIGHBORHOOD'].loc[data['TAX CLASS AS OF FINAL ROLL 18/19'].isna()]), orient='index', columns = ['number of missings']).reset_index().sort_values('number of missings',ascending =False)[:30]\n",
        "analysis_2.rename(columns={'index': 'NEIGHBORHOOD'}, inplace = True)\n",
        "\n",
        "#check how many missing values in TAX CLASS AS OF FINAL ROLL 18/19 or BUILDING CLASS AS OF FINAL ROLL 18/19 at each BUILDING CLASS CATEGORY value\n",
        "analysis_3 = pd.DataFrame.from_dict(Counter(data['BUILDING CLASS CATEGORY'].loc[data['TAX CLASS AS OF FINAL ROLL 18/19'].isna()]), orient='index', columns = ['number of missings']).reset_index().sort_values('number of missings',ascending =False)[:30]\n",
        "analysis_3.rename(columns={'index': 'BUILDING CLASS CATEGORY'}, inplace = True)\n",
        "\n",
        "#check how many missing values in TAX CLASS AS OF FINAL ROLL 18/19 or BUILDING CLASS AS OF FINAL ROLL 18/19 at each BLOCK value\n",
        "analysis_4 = pd.DataFrame.from_dict(Counter(data['BLOCK'].loc[data['TAX CLASS AS OF FINAL ROLL 18/19'].isna()]), orient='index', columns = ['number of missings']).reset_index().sort_values('number of missings',ascending =False)\n",
        "analysis_4.rename(columns={'index': 'BLOCK'}, inplace = True)\n",
        "\n",
        "analysis_1_styler = analysis_1.style.set_table_attributes(\"style=display:inline\").set_caption('number of missings at each BOROUGH value')\n",
        "analysis_2_styler = analysis_2.style.set_table_attributes(\"style=display:inline\").set_caption('number of missings at each NEIGHBORHOOD value')\n",
        "analysis_3_styler = analysis_3.style.set_table_attributes(\"style=display:inline\").set_caption('number of missings at each BUILDING CLASS CATEGORY value')\n",
        "analysis_4_styler = analysis_4.style.set_table_attributes(\"style=display:inline\").set_caption('number of missings at each BLOCK value')\n",
        "\n",
        "display_html(analysis_1_styler._repr_html_()+analysis_2_styler._repr_html_()+analysis_3_styler._repr_html_()+analysis_4_styler._repr_html_(), raw=True)"
      ]
    },
    {
      "cell_type": "markdown",
      "metadata": {
        "id": "bsrtrb-dqfhc"
      },
      "source": [
        "If you may notice from the above table most of the null values in **TAX CLASS AS OF FINAL ROLL 18/19** and **BUILDING CLASS AS OF FINAL ROLL 18/19** happened when the values in **BLOCK** were **1296.00000** and the values in the **NEIGHBORHOOD** features was **MIDTOWN WEST** also there are more than **200** missing values happened when the values in the **BUILDING CLASS CATEGORY** was **13 CONDOS - ELEVATOR APARTMENTS** so based on these observed data the missing values in these two features follow **MAR** mechanism."
      ]
    },
    {
      "cell_type": "markdown",
      "metadata": {
        "id": "FyZCZTTRqfhd"
      },
      "source": [
        "Since the missing values in these two features is not a lot I'll fill the missings with most frequented values."
      ]
    },
    {
      "cell_type": "code",
      "execution_count": null,
      "metadata": {
        "execution": {
          "iopub.execute_input": "2022-04-26T02:17:25.987946Z",
          "iopub.status.busy": "2022-04-26T02:17:25.987699Z",
          "iopub.status.idle": "2022-04-26T02:17:26.080676Z",
          "shell.execute_reply": "2022-04-26T02:17:26.079650Z",
          "shell.execute_reply.started": "2022-04-26T02:17:25.987916Z"
        },
        "id": "tg6HrSvHqfhd",
        "trusted": true
      },
      "outputs": [],
      "source": [
        "data['TAX CLASS AS OF FINAL ROLL 18/19'].fillna(data['TAX CLASS AS OF FINAL ROLL 18/19'].mode()[0],inplace=True)\n",
        "data['BUILDING CLASS AS OF FINAL ROLL 18/19'].fillna(data['BUILDING CLASS AS OF FINAL ROLL 18/19'].mode()[0],inplace=True)"
      ]
    },
    {
      "cell_type": "markdown",
      "metadata": {
        "id": "Wj46E1Xhqfhd"
      },
      "source": [
        "### Let's analyiz and deal with missing values at **'RESIDENTIAL UNITS', 'COMMERCIAL UNITS', 'TOTAL UNITS', 'LAND SQUARE FEET', 'GROSS SQUARE FEET'** features."
      ]
    },
    {
      "cell_type": "code",
      "execution_count": null,
      "metadata": {
        "execution": {
          "iopub.execute_input": "2022-04-26T02:17:26.082301Z",
          "iopub.status.busy": "2022-04-26T02:17:26.082061Z",
          "iopub.status.idle": "2022-04-26T02:17:26.179689Z",
          "shell.execute_reply": "2022-04-26T02:17:26.179028Z",
          "shell.execute_reply.started": "2022-04-26T02:17:26.082272Z"
        },
        "id": "rvJN68hUqfhd",
        "trusted": true
      },
      "outputs": [],
      "source": [
        "#you can change the value of RESIDENTIAL UNITS with BUILDING CLASS AS OF FINAL ROLL 18/19, since they are follow the same patterns. \n",
        "\n",
        "#check how many missing values in RESIDENTIAL UNITS or BUILDING CLASS AS OF FINAL ROLL 18/19 at each BOROUGH value\n",
        "analysis_5 = pd.DataFrame.from_dict(Counter(data['BOROUGH'].loc[data['RESIDENTIAL UNITS'].isna()]), orient='index', columns = ['number of missings']).reset_index().sort_values('number of missings',ascending =False)\n",
        "analysis_5.rename(columns={'index': 'BOROUGH'}, inplace = True)\n",
        "\n",
        "#check how many missing values in RESIDENTIAL UNITS or BUILDING CLASS AS OF FINAL ROLL 18/19 at each NEIGHBORHOOD value\n",
        "analysis_6 = pd.DataFrame.from_dict(Counter(data['NEIGHBORHOOD'].loc[data['RESIDENTIAL UNITS'].isna()]), orient='index', columns = ['number of missings']).reset_index().sort_values('number of missings',ascending =False)[:30]\n",
        "analysis_6.rename(columns={'index': 'NEIGHBORHOOD'}, inplace = True)\n",
        "\n",
        "#check how many missing values in RESIDENTIAL UNITS or BUILDING CLASS AS OF FINAL ROLL 18/19 at each BUILDING CLASS CATEGORY value\n",
        "analysis_7 = pd.DataFrame.from_dict(Counter(data['BUILDING CLASS CATEGORY'].loc[data['RESIDENTIAL UNITS'].isna()]), orient='index', columns = ['number of missings']).reset_index().sort_values('number of missings',ascending =False)[:30]\n",
        "analysis_7.rename(columns={'index': 'BUILDING CLASS CATEGORY'}, inplace = True)\n",
        "\n",
        "#check how many missing values in RESIDENTIAL UNITS or BUILDING CLASS AS OF FINAL ROLL 18/19 at each BLOCK value\n",
        "analysis_8 = pd.DataFrame.from_dict(Counter(data['TAX CLASS AS OF FINAL ROLL 18/19'].loc[data['RESIDENTIAL UNITS'].isna()]), orient='index', columns = ['number of missings']).reset_index().sort_values('number of missings',ascending =False)\n",
        "analysis_8.rename(columns={'index': 'BUILDING CLASS AS OF FINAL ROLL 18/19'}, inplace = True)\n",
        "\n",
        "analysis_5_styler = analysis_5.style.set_table_attributes(\"style=display:inline\").set_caption('number of missings at each BOROUGH value')\n",
        "analysis_6_styler = analysis_6.style.set_table_attributes(\"style=display:inline\").set_caption('number of missings at each NEIGHBORHOOD value')\n",
        "analysis_7_styler = analysis_7.style.set_table_attributes(\"style=display:inline\").set_caption('number of missings at each BUILDING CLASS CATEGORY value')\n",
        "analysis_8_styler = analysis_8.style.set_table_attributes(\"style=display:inline\").set_caption('number of missings at each BLOCK value')\n",
        "\n",
        "display_html(analysis_5_styler._repr_html_()+analysis_6_styler._repr_html_()+analysis_7_styler._repr_html_()+analysis_8_styler._repr_html_(), raw=True)"
      ]
    },
    {
      "cell_type": "markdown",
      "metadata": {
        "id": "e0azz6I0qfhd"
      },
      "source": [
        "If you may notice from the above table most of the null values in **RESIDENTIAL UNITS** feature happened when the values in **BUILDING CLASS AS OF FINAL ROLL 18/19** feature were **2** and so it follows **MAR** mechanism and since **'COMMERCIAL UNITS', 'TOTAL UNITS', 'LAND SQUARE FEET', 'GROSS SQUARE FEET'** follow the same pattern with in missing values with **RESIDENTIAL UNITS** so they also follow **MAR** mechanism."
      ]
    },
    {
      "cell_type": "markdown",
      "metadata": {
        "id": "50nsowd6qfhd"
      },
      "source": [
        "#### Handle **TOTAL UNITS** feature\n",
        "\n",
        "note: this feature are string feature but it has integer numerical values."
      ]
    },
    {
      "cell_type": "code",
      "execution_count": null,
      "metadata": {
        "execution": {
          "iopub.execute_input": "2022-04-26T02:17:26.181412Z",
          "iopub.status.busy": "2022-04-26T02:17:26.180678Z",
          "iopub.status.idle": "2022-04-26T02:17:26.461425Z",
          "shell.execute_reply": "2022-04-26T02:17:26.460350Z",
          "shell.execute_reply.started": "2022-04-26T02:17:26.181366Z"
        },
        "id": "2ifY59dAqfhd",
        "trusted": true
      },
      "outputs": [],
      "source": [
        "#most 20 frequented values in RESIDENTIAL UNITS\n",
        "data['TOTAL UNITS'] = data['TOTAL UNITS'].str.replace(',','.')\n",
        "\n",
        "data['TOTAL UNITS'] = pd.to_numeric(data['TOTAL UNITS'])"
      ]
    },
    {
      "cell_type": "markdown",
      "metadata": {
        "id": "Rq0rLSnTqfhe"
      },
      "source": [
        "I see that I should replace the nan values in these two features with the median each feature."
      ]
    },
    {
      "cell_type": "code",
      "execution_count": null,
      "metadata": {
        "execution": {
          "iopub.execute_input": "2022-04-26T02:17:26.463541Z",
          "iopub.status.busy": "2022-04-26T02:17:26.462962Z",
          "iopub.status.idle": "2022-04-26T02:17:26.479193Z",
          "shell.execute_reply": "2022-04-26T02:17:26.478456Z",
          "shell.execute_reply.started": "2022-04-26T02:17:26.463487Z"
        },
        "id": "n6788iCtqfhe",
        "trusted": true
      },
      "outputs": [],
      "source": [
        "data['TOTAL UNITS'] = data['TOTAL UNITS'].fillna(int(data['TOTAL UNITS'].median()))\n",
        "\n",
        "data['TOTAL UNITS'].value_counts()[:10]"
      ]
    },
    {
      "cell_type": "markdown",
      "metadata": {
        "id": "0kwfowGKqfhe"
      },
      "source": [
        "### Handle **'LAND SQUARE FEET', 'GROSS SQUARE FEET'** features.\n",
        "note: these features are string features but they have integer numerical values."
      ]
    },
    {
      "cell_type": "code",
      "execution_count": null,
      "metadata": {
        "execution": {
          "iopub.execute_input": "2022-04-26T02:17:26.481398Z",
          "iopub.status.busy": "2022-04-26T02:17:26.480834Z",
          "iopub.status.idle": "2022-04-26T02:17:27.076786Z",
          "shell.execute_reply": "2022-04-26T02:17:27.075584Z",
          "shell.execute_reply.started": "2022-04-26T02:17:26.481360Z"
        },
        "id": "5v-WJtjXqfhe",
        "trusted": true
      },
      "outputs": [],
      "source": [
        "print(data['LAND SQUARE FEET'].value_counts()[:10])\n",
        "print(data['GROSS SQUARE FEET'].value_counts()[:10])\n",
        "\n",
        "data['LAND SQUARE FEET'] = data['LAND SQUARE FEET'].str.replace(',','')\n",
        "data['GROSS SQUARE FEET'] = data['GROSS SQUARE FEET'].str.replace(',','')\n",
        "\n",
        "data['LAND SQUARE FEET'] = pd.to_numeric(data['LAND SQUARE FEET'])\n",
        "data['GROSS SQUARE FEET'] = pd.to_numeric(data['GROSS SQUARE FEET'])\n",
        "\n",
        "\n",
        "print(data['LAND SQUARE FEET'].value_counts()[0] / len(data) * 100)"
      ]
    },
    {
      "cell_type": "markdown",
      "metadata": {
        "id": "QFsFLqroqfhe"
      },
      "source": [
        "I saw that I should replace null values in these features with the mode since they are representing most of the data in these features."
      ]
    },
    {
      "cell_type": "code",
      "execution_count": null,
      "metadata": {
        "execution": {
          "iopub.execute_input": "2022-04-26T02:17:27.079310Z",
          "iopub.status.busy": "2022-04-26T02:17:27.078778Z",
          "iopub.status.idle": "2022-04-26T02:17:27.095026Z",
          "shell.execute_reply": "2022-04-26T02:17:27.093959Z",
          "shell.execute_reply.started": "2022-04-26T02:17:27.079258Z"
        },
        "id": "OMdsKSjBqfhe",
        "trusted": true
      },
      "outputs": [],
      "source": [
        "data['LAND SQUARE FEET'] = data['LAND SQUARE FEET'].fillna(data['LAND SQUARE FEET'].mode()[0])\n",
        "data['GROSS SQUARE FEET'] = data['GROSS SQUARE FEET'].fillna(data['GROSS SQUARE FEET'].mode()[0])"
      ]
    },
    {
      "cell_type": "code",
      "execution_count": null,
      "metadata": {
        "execution": {
          "iopub.execute_input": "2022-04-26T02:17:27.097220Z",
          "iopub.status.busy": "2022-04-26T02:17:27.096886Z",
          "iopub.status.idle": "2022-04-26T02:17:29.058367Z",
          "shell.execute_reply": "2022-04-26T02:17:29.057542Z",
          "shell.execute_reply.started": "2022-04-26T02:17:27.097171Z"
        },
        "id": "9ZgSnmysqfhe",
        "trusted": true
      },
      "outputs": [],
      "source": [
        "missingno.matrix(data)"
      ]
    },
    {
      "cell_type": "markdown",
      "metadata": {
        "id": "sBwY42cIqfhf"
      },
      "source": [
        "### I won't handle **COMMERCIAL UNITS** and **RESIDENTIAL UNITS** and I'll explain why in the feature engineering step."
      ]
    },
    {
      "cell_type": "markdown",
      "metadata": {
        "id": "iMGEtAFkqfhf"
      },
      "source": [
        "### Handle **YEAR BUILT** feature\n",
        "\n",
        "note: there are 0.0 value in this feature I considered them as noisy data and I'll replace them with the median of the data also as Null values."
      ]
    },
    {
      "cell_type": "code",
      "execution_count": null,
      "metadata": {
        "execution": {
          "iopub.execute_input": "2022-04-26T02:17:29.060725Z",
          "iopub.status.busy": "2022-04-26T02:17:29.059848Z",
          "iopub.status.idle": "2022-04-26T02:17:29.080977Z",
          "shell.execute_reply": "2022-04-26T02:17:29.079873Z",
          "shell.execute_reply.started": "2022-04-26T02:17:29.060672Z"
        },
        "id": "-rMsEybgqfhf",
        "trusted": true
      },
      "outputs": [],
      "source": [
        "print(data['YEAR BUILT'].value_counts())"
      ]
    },
    {
      "cell_type": "code",
      "execution_count": null,
      "metadata": {
        "execution": {
          "iopub.execute_input": "2022-04-26T02:17:29.082918Z",
          "iopub.status.busy": "2022-04-26T02:17:29.082670Z",
          "iopub.status.idle": "2022-04-26T02:17:29.104039Z",
          "shell.execute_reply": "2022-04-26T02:17:29.103357Z",
          "shell.execute_reply.started": "2022-04-26T02:17:29.082888Z"
        },
        "id": "MHmBnp5Aqfhf",
        "trusted": true
      },
      "outputs": [],
      "source": [
        "data['YEAR BUILT'] = data['YEAR BUILT'].fillna(int(data['YEAR BUILT'].median()))\n",
        "data['YEAR BUILT'] = data['YEAR BUILT'].replace(0.0,int(data['YEAR BUILT'].median()))"
      ]
    },
    {
      "cell_type": "markdown",
      "source": [
        "### Feature selection step related to missing values\n",
        "\n",
        "I'll drop **RESIDENTIAL UNITS** and **COMMERCIAL UNITS** while they are have missing values since the **TOTAL UNITS** feature equal their sum, and I'll drop **ADDRESS** since it has a lot of unique values and I see that **NEIGHBORHOOD** represent its values."
      ],
      "metadata": {
        "id": "iuTzCPK193Z7"
      }
    },
    {
      "cell_type": "code",
      "source": [
        "data = data.drop(['RESIDENTIAL UNITS','COMMERCIAL UNITS','ADDRESS'], axis = 1)"
      ],
      "metadata": {
        "id": "UxdFk_CB-F5M"
      },
      "execution_count": null,
      "outputs": []
    },
    {
      "cell_type": "markdown",
      "metadata": {
        "id": "tgXkUQAZqfhf"
      },
      "source": [
        "### Check if there are still any missing "
      ]
    },
    {
      "cell_type": "code",
      "execution_count": null,
      "metadata": {
        "execution": {
          "iopub.execute_input": "2022-04-26T02:17:29.108769Z",
          "iopub.status.busy": "2022-04-26T02:17:29.105628Z",
          "iopub.status.idle": "2022-04-26T02:17:29.632497Z",
          "shell.execute_reply": "2022-04-26T02:17:29.631475Z",
          "shell.execute_reply.started": "2022-04-26T02:17:29.108722Z"
        },
        "id": "hY8TNw_zqfhf",
        "trusted": true
      },
      "outputs": [],
      "source": [
        "if data.isna().values.any() == True:\n",
        "    #this condidtion will be evaluated.\n",
        "    print(\"There are missing values in this dataframe\")\n",
        "else:\n",
        "    print(\"There aren't missing values in this dataframe\")\n",
        "total_miss = data.isnull().sum()\n",
        "percent_miss = (total_miss/data.isnull().count()*100)\n",
        "\n",
        "# sort attributes by missing value ratio\n",
        "missing_data = pd.DataFrame({'Total missing':total_miss,'% missing':percent_miss})\n",
        "missing_data.sort_values(by='Total missing',ascending=False)"
      ]
    },
    {
      "cell_type": "markdown",
      "source": [
        "### Reset indices of the data"
      ],
      "metadata": {
        "id": "4nTTFxHS_1NC"
      }
    },
    {
      "cell_type": "code",
      "source": [
        "data.reset_index(drop= True, inplace = True)"
      ],
      "metadata": {
        "id": "FKmEHK-Y_zx1"
      },
      "execution_count": null,
      "outputs": []
    },
    {
      "cell_type": "markdown",
      "metadata": {
        "id": "c9Ek2YZMqfhf"
      },
      "source": [
        "### Check and handling the outliers for some numerical features.\n",
        "\n",
        "If the feature has more than 1200 values as outliers I won't drop them otherwise I'll normalize this feature."
      ]
    },
    {
      "cell_type": "code",
      "execution_count": null,
      "metadata": {
        "execution": {
          "iopub.execute_input": "2022-04-26T02:17:29.634343Z",
          "iopub.status.busy": "2022-04-26T02:17:29.634016Z",
          "iopub.status.idle": "2022-04-26T02:17:29.646362Z",
          "shell.execute_reply": "2022-04-26T02:17:29.645509Z",
          "shell.execute_reply.started": "2022-04-26T02:17:29.634297Z"
        },
        "id": "mGAtU9Vjqfhf",
        "trusted": true
      },
      "outputs": [],
      "source": [
        "sns.set_theme(style=\"whitegrid\")\n",
        "sns.set(rc={'figure.figsize':(11,6)})\n",
        "\n",
        "def show_boxplot(df,col):\n",
        "    outlier = sns.boxplot(x=df[col])\n",
        "    outlier.set(title = f\"{col} feature outliers analysis.\")\n",
        "\n",
        "def analysis_and_remove_outliers(df, num_cols):\n",
        "    \n",
        "    for column in num_cols:\n",
        "        Q1 = np.percentile(df[column], 20, interpolation = 'midpoint')\n",
        "                      \n",
        "        Q3 = np.percentile(df[column], 80, interpolation = 'midpoint')\n",
        "        IQR = Q3 - Q1\n",
        "                      \n",
        "        # Upper bound\n",
        "        upper_bound = np.where(df[column] > (Q3+1.5*IQR))\n",
        "        # Lower bound\n",
        "        lower_bound = np.where(df[column] < (Q1-1.5*IQR))\n",
        "\n",
        "        num_of_outliers = len(upper_bound[0]) + len(lower_bound[0])\n",
        "                      \n",
        "        print(f\"number of outliers at '{column} feature is: {num_of_outliers} value.\")\n",
        "                      \n",
        "        df.loc[upper_bound[0], column]= np.nan\n",
        "        df.loc[lower_bound[0], column]= np.nan\n",
        "\n",
        "    df = df.dropna()\n",
        "    return df"
      ]
    },
    {
      "cell_type": "markdown",
      "metadata": {
        "id": "TOIPeGK9qfhg"
      },
      "source": [
        "first I should convert **SALE PRICE** feature to numerical feature since it has numerical values but in string form."
      ]
    },
    {
      "cell_type": "code",
      "execution_count": null,
      "metadata": {
        "execution": {
          "iopub.execute_input": "2022-04-26T02:17:29.647992Z",
          "iopub.status.busy": "2022-04-26T02:17:29.647736Z",
          "iopub.status.idle": "2022-04-26T02:17:30.060842Z",
          "shell.execute_reply": "2022-04-26T02:17:30.059843Z",
          "shell.execute_reply.started": "2022-04-26T02:17:29.647960Z"
        },
        "id": "v6T60jkIqfhg",
        "trusted": true
      },
      "outputs": [],
      "source": [
        "data['SALE PRICE'] = data['SALE PRICE'].str.replace(',','')\n",
        "data['SALE PRICE'] = data['SALE PRICE'].str.replace('$','')\n",
        "data['SALE PRICE'] = pd.to_numeric(data['SALE PRICE'])"
      ]
    },
    {
      "cell_type": "code",
      "execution_count": null,
      "metadata": {
        "execution": {
          "iopub.execute_input": "2022-04-26T02:17:30.065853Z",
          "iopub.status.busy": "2022-04-26T02:17:30.065527Z",
          "iopub.status.idle": "2022-04-26T02:17:30.081430Z",
          "shell.execute_reply": "2022-04-26T02:17:30.080808Z",
          "shell.execute_reply.started": "2022-04-26T02:17:30.065814Z"
        },
        "id": "v19Miqpaqfhg",
        "trusted": true
      },
      "outputs": [],
      "source": [
        "num_cols = list(data.select_dtypes(include=['int','float']))\n",
        "#We won't handle the outliers in the Rating column although we it doesn't has any outliers but it's the output column.\n",
        "num_cols.remove('SALE PRICE')\n",
        "#We will change the data type of this column in the future to category.\n",
        "num_cols.remove('ZIP CODE')\n",
        "print(\"Old shape after droping all outliers values in all numeric columns: \", data.shape)"
      ]
    },
    {
      "cell_type": "code",
      "execution_count": null,
      "metadata": {
        "execution": {
          "iopub.execute_input": "2022-04-26T02:17:30.093950Z",
          "iopub.status.busy": "2022-04-26T02:17:30.093414Z",
          "iopub.status.idle": "2022-04-26T02:17:30.385239Z",
          "shell.execute_reply": "2022-04-26T02:17:30.383657Z",
          "shell.execute_reply.started": "2022-04-26T02:17:30.093911Z"
        },
        "id": "R6d2e0yiqfhg",
        "trusted": true
      },
      "outputs": [],
      "source": [
        "show_boxplot(data,num_cols[0])\n",
        "print(\"No outliers founded\")"
      ]
    },
    {
      "cell_type": "code",
      "source": [
        "show_boxplot(data,num_cols[1])"
      ],
      "metadata": {
        "id": "JC2vgRt14SCJ"
      },
      "execution_count": null,
      "outputs": []
    },
    {
      "cell_type": "markdown",
      "metadata": {
        "id": "wo-6pWSKqfhg"
      },
      "source": [
        "#### Analysis and Handling outliers in the numeric feature."
      ]
    },
    {
      "cell_type": "code",
      "execution_count": null,
      "metadata": {
        "execution": {
          "iopub.execute_input": "2022-04-26T02:17:30.387590Z",
          "iopub.status.busy": "2022-04-26T02:17:30.386903Z",
          "iopub.status.idle": "2022-04-26T02:17:30.697703Z",
          "shell.execute_reply": "2022-04-26T02:17:30.696606Z",
          "shell.execute_reply.started": "2022-04-26T02:17:30.387532Z"
        },
        "id": "Gm2xE4Ywqfhg",
        "trusted": true
      },
      "outputs": [],
      "source": [
        "data = analysis_and_remove_outliers(data, num_cols)"
      ]
    },
    {
      "cell_type": "markdown",
      "metadata": {
        "id": "3YxX0P1rqfhh"
      },
      "source": [
        "### The shape of the data after handling duplication, missing and outliers data"
      ]
    },
    {
      "cell_type": "code",
      "execution_count": null,
      "metadata": {
        "execution": {
          "iopub.execute_input": "2022-04-26T02:17:31.662367Z",
          "iopub.status.busy": "2022-04-26T02:17:31.662034Z",
          "iopub.status.idle": "2022-04-26T02:17:31.669551Z",
          "shell.execute_reply": "2022-04-26T02:17:31.668542Z",
          "shell.execute_reply.started": "2022-04-26T02:17:31.662322Z"
        },
        "id": "giI7uo1Zqfhh",
        "trusted": true
      },
      "outputs": [],
      "source": [
        "#new shape of the data \n",
        "data.shape"
      ]
    },
    {
      "cell_type": "markdown",
      "metadata": {
        "id": "s03Rz3RIqfhh"
      },
      "source": [
        "### Clean format of the **SALE DATE**"
      ]
    },
    {
      "cell_type": "code",
      "execution_count": null,
      "metadata": {
        "execution": {
          "iopub.execute_input": "2022-04-26T02:17:31.671193Z",
          "iopub.status.busy": "2022-04-26T02:17:31.670932Z",
          "iopub.status.idle": "2022-04-26T02:17:31.717297Z",
          "shell.execute_reply": "2022-04-26T02:17:31.716634Z",
          "shell.execute_reply.started": "2022-04-26T02:17:31.671158Z"
        },
        "id": "ufVFk6_uqfhh",
        "trusted": true
      },
      "outputs": [],
      "source": [
        "data['SALE DATE'] = pd.to_datetime(data['SALE DATE'])\n",
        "data['SALE DATE'] = data['SALE DATE'].astype(str)"
      ]
    },
    {
      "cell_type": "markdown",
      "metadata": {
        "id": "7GjtteRGqfhh"
      },
      "source": [
        "Task 2: Data exploration using data visualization.\n",
        "Raise two questions that can be answered by performing data visualization. Briefely mention why you think this question would be interesting to whom (who is your audience). Think about the EDA principals.\n",
        "\n",
        "1. What's the top 5 Building class category at NY state?\n",
        "\n",
        "Answering question will help new people that would move to NY state and would help them to choose a suitable city, also will help Real estate men and brokers to determine what's the most Building class category at NY state and they would compare it with other states.\n",
        "\n",
        "2. Do the number of Total units increased over years?\n",
        "\n",
        "Answering this question will help economists and data analysis to determine why in a specific year the number of units was less or more than usual, and it will determine the GPT of the country at this year."
      ]
    },
    {
      "cell_type": "markdown",
      "metadata": {
        "id": "z0FJUcGXqfhh"
      },
      "source": [
        "Question 2.1: What's the top 5 Building class category at NY state?\n",
        "\n",
        "Answering question will help new people that would move to NY state and would help them to choose a suitable city, also will help Real estate men and brokers to determine what's the most Building class category at NY state and they would compare it with other states."
      ]
    },
    {
      "cell_type": "code",
      "execution_count": null,
      "metadata": {
        "execution": {
          "iopub.execute_input": "2022-04-26T02:17:31.719074Z",
          "iopub.status.busy": "2022-04-26T02:17:31.718831Z",
          "iopub.status.idle": "2022-04-26T02:17:31.893897Z",
          "shell.execute_reply": "2022-04-26T02:17:31.892895Z",
          "shell.execute_reply.started": "2022-04-26T02:17:31.719045Z"
        },
        "id": "D58Y807_qfhh",
        "trusted": true
      },
      "outputs": [],
      "source": [
        "# TODO write code to answer Q2.1\n",
        "data['BUILDING CLASS CATEGORY'].value_counts()[:5].plot(kind='pie')"
      ]
    },
    {
      "cell_type": "code",
      "execution_count": null,
      "metadata": {
        "execution": {
          "iopub.execute_input": "2022-04-26T02:17:31.896783Z",
          "iopub.status.busy": "2022-04-26T02:17:31.896047Z",
          "iopub.status.idle": "2022-04-26T02:17:32.216665Z",
          "shell.execute_reply": "2022-04-26T02:17:32.215797Z",
          "shell.execute_reply.started": "2022-04-26T02:17:31.896722Z"
        },
        "id": "YvTAzHLgqfhi",
        "trusted": true
      },
      "outputs": [],
      "source": [
        "#answer Q2.1\n",
        "data['BUILDING CLASS CATEGORY'].value_counts()[:8].plot(kind='bar')"
      ]
    },
    {
      "cell_type": "markdown",
      "metadata": {
        "id": "MmFnF8Oyqfhi"
      },
      "source": [
        "Question 2.2: {put your raised question here.}"
      ]
    },
    {
      "cell_type": "code",
      "execution_count": null,
      "metadata": {
        "execution": {
          "iopub.execute_input": "2022-04-26T02:17:32.218136Z",
          "iopub.status.busy": "2022-04-26T02:17:32.217917Z",
          "iopub.status.idle": "2022-04-26T02:17:32.223506Z",
          "shell.execute_reply": "2022-04-26T02:17:32.222938Z",
          "shell.execute_reply.started": "2022-04-26T02:17:32.218108Z"
        },
        "id": "UFsxNY-vqfhi",
        "trusted": true
      },
      "outputs": [],
      "source": [
        "num_cols"
      ]
    },
    {
      "cell_type": "code",
      "execution_count": null,
      "metadata": {
        "execution": {
          "iopub.execute_input": "2022-04-26T02:17:32.225132Z",
          "iopub.status.busy": "2022-04-26T02:17:32.224481Z",
          "iopub.status.idle": "2022-04-26T02:17:32.390498Z",
          "shell.execute_reply": "2022-04-26T02:17:32.389658Z",
          "shell.execute_reply.started": "2022-04-26T02:17:32.225093Z"
        },
        "id": "tRBf7Hxeqfhi",
        "trusted": true
      },
      "outputs": [],
      "source": [
        "# TODO write code to answer Q2.2\n",
        "\n",
        "new_1 = data.loc[(data['YEAR BUILT']>=1950)]['TOTAL UNITS'].mean()\n",
        "new_2 = data.loc[(data['YEAR BUILT']<1950)]['TOTAL UNITS'].mean()\n",
        "print(new_1)\n",
        "print(new_2)\n",
        "df = data.groupby('YEAR BUILT').count()['TOTAL UNITS']\n",
        "df"
      ]
    },
    {
      "cell_type": "markdown",
      "metadata": {
        "id": "y9j_-chXqfhi"
      },
      "source": [
        "From above test the number of units in the older years was near to total units in the newer years."
      ]
    },
    {
      "cell_type": "markdown",
      "metadata": {
        "id": "9AG_k8QHqfhi"
      },
      "source": [
        "Task 3: Data Exploration via Statistical Test\n",
        "Raise one question that can be answered by performing hypothesis test. Briefely mention why you think this question would be interesting to whom (who is your audience). Also mention which statistical test you would choose and why."
      ]
    },
    {
      "cell_type": "markdown",
      "metadata": {
        "id": "0fZxFD95qfhi"
      },
      "source": [
        "Null hypothesis: Number of Total units are higher in the older years in NY state? i.e <1950 the number total units became more than 1000.\n",
        "\n",
        "Alternative hypothesis: Number of Total units in the older years is near to the number of total units in the newer years in NY state?"
      ]
    },
    {
      "cell_type": "code",
      "execution_count": null,
      "metadata": {
        "execution": {
          "iopub.execute_input": "2022-04-26T02:17:32.392802Z",
          "iopub.status.busy": "2022-04-26T02:17:32.392110Z",
          "iopub.status.idle": "2022-04-26T02:17:32.427512Z",
          "shell.execute_reply": "2022-04-26T02:17:32.426519Z",
          "shell.execute_reply.started": "2022-04-26T02:17:32.392755Z"
        },
        "id": "jF2GkCGGqfhi",
        "trusted": true
      },
      "outputs": [],
      "source": [
        "# TODO write code to perform task 3\n",
        "new_1 = data.loc[(data['YEAR BUILT']>=1980)]['TOTAL UNITS']\n",
        "new_2 = data.loc[(data['YEAR BUILT']<1980)]['TOTAL UNITS']\n",
        "\n",
        "ttest,significance_level = ttest_ind(new_1,new_2,equal_var=False) #Assume samples have equal variance\n",
        "print(\"p-value: \",significance_level)\n",
        "print(f\"t-test value: {ttest}\")\n",
        "\n",
        "if significance_level > 0.05:\n",
        "  print(\"we accept null hypothesis\")\n",
        "else:\n",
        "  print(\"we reject null hypothesis\")"
      ]
    },
    {
      "cell_type": "markdown",
      "metadata": {
        "id": "DxyNl9iBqfhi"
      },
      "source": [
        "findings: After I tested hypothese, The exprement reject my assumtion and you can see from the mean of two values that they aren't have the much difference."
      ]
    },
    {
      "cell_type": "markdown",
      "metadata": {
        "id": "XfUc436Dqfhj"
      },
      "source": [
        "Task 4: Feature Engineering. If we would like to predict the house sale price. Analyze the scale of each attribute and determine which ones you would transfer (e.g., cateogorical features). Discuss how you plan to select important features."
      ]
    },
    {
      "cell_type": "code",
      "execution_count": null,
      "metadata": {
        "execution": {
          "iopub.execute_input": "2022-04-26T02:17:32.429156Z",
          "iopub.status.busy": "2022-04-26T02:17:32.428885Z",
          "iopub.status.idle": "2022-04-26T02:17:32.509915Z",
          "shell.execute_reply": "2022-04-26T02:17:32.509210Z",
          "shell.execute_reply.started": "2022-04-26T02:17:32.429122Z"
        },
        "id": "DktyRuTcqfhj",
        "trusted": true
      },
      "outputs": [],
      "source": [
        "# TODO for Task 4\n",
        "data.describe()"
      ]
    },
    {
      "cell_type": "code",
      "execution_count": null,
      "metadata": {
        "execution": {
          "iopub.execute_input": "2022-04-26T02:17:32.511492Z",
          "iopub.status.busy": "2022-04-26T02:17:32.511011Z",
          "iopub.status.idle": "2022-04-26T02:17:43.427944Z",
          "shell.execute_reply": "2022-04-26T02:17:43.426641Z",
          "shell.execute_reply.started": "2022-04-26T02:17:32.511450Z"
        },
        "id": "sc48JMNYqfhj",
        "trusted": true
      },
      "outputs": [],
      "source": [
        "#check the distribution of each numerical column.\n",
        "for column in data.columns:\n",
        "    if data[column].dtype != object:\n",
        "        fig = plt.figure(figsize=(10,10))\n",
        "        sns.displot(data[column], kind=\"kde\")\n",
        "        plt.close(fig)"
      ]
    },
    {
      "cell_type": "markdown",
      "metadata": {
        "id": "idvFrDsEqfhj"
      },
      "source": [
        "### 1: Normalize numerical features that have outliers."
      ]
    },
    {
      "cell_type": "code",
      "execution_count": null,
      "metadata": {
        "execution": {
          "iopub.execute_input": "2022-04-26T02:17:43.430008Z",
          "iopub.status.busy": "2022-04-26T02:17:43.429623Z",
          "iopub.status.idle": "2022-04-26T02:17:43.438973Z",
          "shell.execute_reply": "2022-04-26T02:17:43.437865Z",
          "shell.execute_reply.started": "2022-04-26T02:17:43.429957Z"
        },
        "id": "Eu1j9eJUqfhj",
        "trusted": true
      },
      "outputs": [],
      "source": [
        "print(data['TOTAL UNITS'].max())\n",
        "print(data['TOTAL UNITS'].min())"
      ]
    },
    {
      "cell_type": "code",
      "execution_count": null,
      "metadata": {
        "execution": {
          "iopub.execute_input": "2022-04-26T02:17:43.440877Z",
          "iopub.status.busy": "2022-04-26T02:17:43.440610Z",
          "iopub.status.idle": "2022-04-26T02:17:43.462555Z",
          "shell.execute_reply": "2022-04-26T02:17:43.461728Z",
          "shell.execute_reply.started": "2022-04-26T02:17:43.440835Z"
        },
        "id": "ZdI7MNxtqfhj",
        "trusted": true
      },
      "outputs": [],
      "source": [
        "scaler = MinMaxScaler()\n",
        "\n",
        "data[['BLOCK','GROSS SQUARE FEET','TOTAL UNITS','LAND SQUARE FEET','TAX CLASS AT TIME OF SALE']] = scaler.fit_transform(data[['BLOCK','GROSS SQUARE FEET','TOTAL UNITS','LAND SQUARE FEET','TAX CLASS AT TIME OF SALE']])"
      ]
    },
    {
      "cell_type": "code",
      "execution_count": null,
      "metadata": {
        "execution": {
          "iopub.execute_input": "2022-04-26T02:17:43.463902Z",
          "iopub.status.busy": "2022-04-26T02:17:43.463622Z",
          "iopub.status.idle": "2022-04-26T02:17:43.472504Z",
          "shell.execute_reply": "2022-04-26T02:17:43.471442Z",
          "shell.execute_reply.started": "2022-04-26T02:17:43.463856Z"
        },
        "id": "PhBEQl-hqfhj",
        "trusted": true
      },
      "outputs": [],
      "source": [
        "print(data['TOTAL UNITS'].max())\n",
        "print(data['TOTAL UNITS'].min())"
      ]
    },
    {
      "cell_type": "markdown",
      "metadata": {
        "id": "tqBwi0hBqfhj"
      },
      "source": [
        "### Correlation analysis"
      ]
    },
    {
      "cell_type": "code",
      "execution_count": null,
      "metadata": {
        "execution": {
          "iopub.execute_input": "2022-04-26T02:17:43.502072Z",
          "iopub.status.busy": "2022-04-26T02:17:43.501759Z",
          "iopub.status.idle": "2022-04-26T02:17:44.375870Z",
          "shell.execute_reply": "2022-04-26T02:17:44.374953Z",
          "shell.execute_reply.started": "2022-04-26T02:17:43.502028Z"
        },
        "id": "-VS9qzsNqfhk",
        "trusted": true
      },
      "outputs": [],
      "source": [
        "plt.figure(figsize = (20,7))\n",
        "sns.heatmap(data.corr(), annot = True, cmap=\"rainbow\")\n",
        "plt.show()"
      ]
    },
    {
      "cell_type": "markdown",
      "metadata": {
        "id": "NOftCVnmqfhk"
      },
      "source": [
        "Since there aren't highly correlated feature so I won't drop any columns anymore."
      ]
    },
    {
      "cell_type": "code",
      "execution_count": null,
      "metadata": {
        "execution": {
          "iopub.execute_input": "2022-04-26T02:17:44.377314Z",
          "iopub.status.busy": "2022-04-26T02:17:44.377082Z",
          "iopub.status.idle": "2022-04-26T02:17:44.402911Z",
          "shell.execute_reply": "2022-04-26T02:17:44.401784Z",
          "shell.execute_reply.started": "2022-04-26T02:17:44.377277Z"
        },
        "id": "HRDBiY_Hqfhk",
        "trusted": true
      },
      "outputs": [],
      "source": [
        "data.head(5)"
      ]
    },
    {
      "cell_type": "markdown",
      "metadata": {
        "id": "_-kRQ9azqfhk"
      },
      "source": [
        "### 2: Convert the dtype of object features **('NEIGHBORHOOD','BUILDING CLASS CATEGORY','BUILDING CLASS AS OF FINAL ROLL 18/19','TAX CLASS AS OF FINAL ROLL 18/19','BUILDING CLASS AT TIME OF SALE')** to categorical data type and then convert them to labels using label encoder but that isn't right solutions and I had to use it since automl took a lot of ram if I converted them to one hot encoded data and the model crashs."
      ]
    },
    {
      "cell_type": "code",
      "execution_count": null,
      "metadata": {
        "execution": {
          "iopub.execute_input": "2022-04-26T02:17:44.405418Z",
          "iopub.status.busy": "2022-04-26T02:17:44.404381Z",
          "iopub.status.idle": "2022-04-26T02:17:45.024425Z",
          "shell.execute_reply": "2022-04-26T02:17:45.023535Z",
          "shell.execute_reply.started": "2022-04-26T02:17:44.405372Z"
        },
        "id": "UDGbGVLmqfhk",
        "trusted": true
      },
      "outputs": [],
      "source": [
        "data[['NEIGHBORHOOD','BUILDING CLASS CATEGORY','BUILDING CLASS AS OF FINAL ROLL 18/19','TAX CLASS AS OF FINAL ROLL 18/19','BUILDING CLASS AT TIME OF SALE']] = data[['NEIGHBORHOOD','BUILDING CLASS CATEGORY','BUILDING CLASS AS OF FINAL ROLL 18/19','TAX CLASS AS OF FINAL ROLL 18/19','BUILDING CLASS AT TIME OF SALE']].astype('category')\n",
        "en = LabelEncoder()\n",
        "\n",
        "data['NEIGHBORHOOD'] = en.fit_transform(data['NEIGHBORHOOD'])\n",
        "data['BUILDING CLASS CATEGORY'] = en.fit_transform(data['BUILDING CLASS CATEGORY'])\n",
        "data['BUILDING CLASS AS OF FINAL ROLL 18/19'] = en.fit_transform(data['BUILDING CLASS AS OF FINAL ROLL 18/19'])\n",
        "data['TAX CLASS AS OF FINAL ROLL 18/19'] = en.fit_transform(data['TAX CLASS AS OF FINAL ROLL 18/19'])\n",
        "data['BUILDING CLASS AT TIME OF SALE'] = en.fit_transform(data['BUILDING CLASS AT TIME OF SALE'])\n",
        "data['SALE DATE'] = en.fit_transform(data['SALE DATE'])\n",
        "\n",
        "#data = pd.get_dummies(data, columns=['NEIGHBORHOOD','BUILDING CLASS CATEGORY','BUILDING CLASS AS OF FINAL ROLL 18/19','TAX CLASS AS OF FINAL ROLL 18/19','BUILDING CLASS AT TIME OF SALE','SALE DATE'])"
      ]
    },
    {
      "cell_type": "code",
      "execution_count": null,
      "metadata": {
        "execution": {
          "iopub.execute_input": "2022-04-26T02:17:45.025927Z",
          "iopub.status.busy": "2022-04-26T02:17:45.025690Z",
          "iopub.status.idle": "2022-04-26T02:17:45.032734Z",
          "shell.execute_reply": "2022-04-26T02:17:45.031726Z",
          "shell.execute_reply.started": "2022-04-26T02:17:45.025898Z"
        },
        "id": "pRYxSEIcqfhk",
        "trusted": true
      },
      "outputs": [],
      "source": [
        "data.shape"
      ]
    },
    {
      "cell_type": "markdown",
      "metadata": {
        "id": "-GtUFLO_qfhk"
      },
      "source": [
        "### Split the data into train and test data"
      ]
    },
    {
      "cell_type": "code",
      "execution_count": null,
      "metadata": {
        "execution": {
          "iopub.execute_input": "2022-04-26T02:17:45.034834Z",
          "iopub.status.busy": "2022-04-26T02:17:45.034550Z",
          "iopub.status.idle": "2022-04-26T02:17:45.983594Z",
          "shell.execute_reply": "2022-04-26T02:17:45.982577Z",
          "shell.execute_reply.started": "2022-04-26T02:17:45.034803Z"
        },
        "id": "4g43E8UPqfhk",
        "trusted": true
      },
      "outputs": [],
      "source": [
        "y = data['SALE PRICE']\n",
        "data = data.drop(['SALE PRICE'],axis = 1)\n",
        "X_train, X_test, y_train, y_test = train_test_split(data, y,test_size = 0.3 , random_state=1)\n",
        "\n",
        "X_train.shape"
      ]
    },
    {
      "cell_type": "markdown",
      "metadata": {
        "id": "dyP-m0pT3o0K"
      },
      "source": [
        "### Simple Linear Regression model"
      ]
    },
    {
      "cell_type": "code",
      "execution_count": null,
      "metadata": {
        "id": "OLd4DmXp4JxS"
      },
      "outputs": [],
      "source": [
        "from sklearn.linear_model import LinearRegression\n",
        "\n",
        "model = LinearRegression()\n",
        "\n",
        "model.fit(X_train,y_train)\n",
        "\n",
        "y_predicted = model.predict(X_test)\n",
        "\n",
        "#evaluate the model\n",
        "\n",
        "error = mean_squared_error(y_test, y_predicted)\n",
        "\n",
        "error"
      ]
    },
    {
      "cell_type": "markdown",
      "metadata": {
        "id": "YZ7VlHFE4uGt"
      },
      "source": [
        "Why this huge MSE error?\n",
        "\n",
        "I think that's because this problem is not linearly seperable, so I should use more complex model."
      ]
    },
    {
      "cell_type": "markdown",
      "metadata": {
        "id": "LRa-Nv5nqfhk"
      },
      "source": [
        "Task 5: AutoML\n",
        "\n",
        "Using Auto-sklearn to explore performance of one state-of-the-art autoML tool on the given data (after your previous preprocessing). Optional: compare with performing autosklearn on raw data.\n",
        "ref. https://automl.github.io/auto-sklearn/master/examples/20_basic/example_regression.html"
      ]
    },
    {
      "cell_type": "markdown",
      "metadata": {
        "id": "yG_i-gUzwyXT"
      },
      "source": [
        "### Build and fit a regressor\n"
      ]
    },
    {
      "cell_type": "code",
      "execution_count": null,
      "metadata": {
        "execution": {
          "iopub.execute_input": "2022-04-26T02:17:45.985384Z",
          "iopub.status.busy": "2022-04-26T02:17:45.985093Z",
          "iopub.status.idle": "2022-04-26T02:17:46.043406Z",
          "shell.execute_reply": "2022-04-26T02:17:46.040925Z",
          "shell.execute_reply.started": "2022-04-26T02:17:45.985336Z"
        },
        "id": "g-v1CTKSqfhk",
        "trusted": true
      },
      "outputs": [],
      "source": [
        "# TODO for Task 5\n",
        "automl = autosklearn.regression.AutoSklearnRegressor(\n",
        "    time_left_for_this_task=1500,\n",
        "    per_run_time_limit=200,\n",
        "    n_jobs = -1\n",
        ")\n",
        "automl.fit(X_train, y_train)"
      ]
    },
    {
      "cell_type": "code",
      "execution_count": null,
      "metadata": {
        "id": "bx-09DNJ-Y-R"
      },
      "outputs": [],
      "source": [
        "print(automl.leaderboard())"
      ]
    },
    {
      "cell_type": "code",
      "execution_count": null,
      "metadata": {
        "id": "txYDJRaauccn"
      },
      "outputs": [],
      "source": [
        "#Print the final ensemble constructed by auto-sklearn¶\n",
        "pprint(automl.show_models(), indent=4)"
      ]
    },
    {
      "cell_type": "code",
      "execution_count": null,
      "metadata": {
        "id": "suxiyGKOufLd"
      },
      "outputs": [],
      "source": [
        "#Get the Score of the final ensemble¶\n",
        "train_predictions = automl.predict(X_train)\n",
        "print(\"Train R2 score:\", sklearn.metrics.r2_score(y_train, train_predictions))\n",
        "test_predictions = automl.predict(X_test)\n",
        "print(\"Test R2 score:\", sklearn.metrics.r2_score(y_test, test_predictions))"
      ]
    },
    {
      "cell_type": "code",
      "execution_count": null,
      "metadata": {
        "id": "gw9le0biuptU"
      },
      "outputs": [],
      "source": [
        "#Plot the predictions¶\n",
        "plt.scatter(train_predictions, y_train, label=\"Train samples\", c='#d95f02')\n",
        "plt.scatter(test_predictions, y_test, label=\"Test samples\", c='#7570b3')\n",
        "plt.xlabel(\"Predicted value\")\n",
        "plt.ylabel(\"True value\")\n",
        "plt.legend()\n",
        "plt.tight_layout()\n",
        "plt.show()"
      ]
    },
    {
      "cell_type": "markdown",
      "metadata": {
        "id": "POJzvCKO_hdF"
      },
      "source": [
        "### From the above results using AutoML was much better than LinearRegression and the best Regressor was Gradientboosting regressor with less much cost than LinearRegressor.\n",
        "\n",
        "note: the result may vary at each time."
      ]
    }
  ],
  "metadata": {
    "colab": {
      "collapsed_sections": [
        "sBwY42cIqfhf"
      ],
      "provenance": []
    },
    "kernelspec": {
      "display_name": "Python 3.9.13 ('base')",
      "language": "python",
      "name": "python3"
    },
    "language_info": {
      "codemirror_mode": {
        "name": "ipython",
        "version": 3
      },
      "file_extension": ".py",
      "mimetype": "text/x-python",
      "name": "python",
      "nbconvert_exporter": "python",
      "pygments_lexer": "ipython3",
      "version": "3.9.13"
    },
    "vscode": {
      "interpreter": {
        "hash": "ad2bdc8ecc057115af97d19610ffacc2b4e99fae6737bb82f5d7fb13d2f2c186"
      }
    }
  },
  "nbformat": 4,
  "nbformat_minor": 0
}